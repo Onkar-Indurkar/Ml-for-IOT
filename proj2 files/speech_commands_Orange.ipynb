{
 "cells": [
  {
   "cell_type": "markdown",
   "id": "adolescent-davis",
   "metadata": {},
   "source": [
    "## Basic Steps\n",
    "\n",
    "1. Run a baseline training script to build a speech commands model.\n",
    "2. Add in your custom word to the training and test/validation sets.\n",
    "   - Modify labels, shape of your output tensor in the model.\n",
    "   - Make sure that feature extractor for the model aligns with the feature extractor \n",
    "     used in the arduino code.\n",
    "3. Re-train model. => TF Model using floating-point numbers, that recognizes Google word and custom word.\n",
    "4. Quantize the model and convert to TFlite. => keyword_model.tflite file\n",
    "5. Convert tflite to .c file, using xxd => model_data.cc\n",
    "6. Replace contents of existing micro_features_model.cpp with output of xxd.\n",
    "\n",
    "All of the above steps are done in this notebook for the commands 'left', 'right'.\n",
    "\n",
    "7. In micro_speech.ino, modify micro_op_resolver (around line 80) to add any necessary operations (DIFF_FROM_LECTURE)\n",
    "8. In micro_features_model_settings.h, modify kSilenceIndex and kUnknownIndex, depending on \n",
    "where you have them in commands.  \n",
    "  - Commands = ['left', 'right', '_silence', '_unknown'] => kSilenceIndex=2, kUnknownIndex=3\n",
    "9. In micro_features_model_settings.cpp, modify kCategoryLabels to correspond to commands in this script.\n",
    "10. In micro_features_micro_model_settings.h, set kFeatureSliceDurationMs, kFeatureSliceStrideMs to match what is passed to microfrontend as window_size, window_step, respectively.\n",
    "11. Rebuild Arduino program, run it, recognize the two target words.\n",
    "12. Experiment with model architecture, training parameters/methods, augmentation, more data-gathering, etc.\n",
    "\n",
    "*Note*:  As of 5/3/21, this model uses 22% of flash and 49.5% of RAM, so there is substantial space to improve the model, but the latency is about 208ms, which is probably too slow."
   ]
  },
  {
   "cell_type": "code",
   "execution_count": 1,
   "id": "undefined-familiar",
   "metadata": {},
   "outputs": [
    {
     "name": "stdout",
     "output_type": "stream",
     "text": [
      "2.9.1\n"
     ]
    }
   ],
   "source": [
    "# TensorFlow and tf.keras\n",
    "import tensorflow as tf\n",
    "from tensorflow.keras import Input, layers\n",
    "from tensorflow.keras import models\n",
    "from tensorflow.keras.layers.experimental import preprocessing\n",
    "from tensorflow.lite.experimental.microfrontend.python.ops import audio_microfrontend_op as frontend_op\n",
    "print(tf.__version__)\n",
    "\n",
    "# Helper libraries\n",
    "import numpy as np\n",
    "import matplotlib.pyplot as plt\n",
    "import seaborn as sns\n",
    "\n",
    "from tqdm.notebook import tqdm\n",
    "# from tqdm import tqdm # replace with this if moving out of notebook\n",
    "\n",
    "import os\n",
    "import pathlib\n",
    "\n",
    "from datetime import datetime as dt\n",
    "\n",
    "from IPython import display"
   ]
  },
  {
   "cell_type": "code",
   "execution_count": 2,
   "id": "bearing-lobby",
   "metadata": {},
   "outputs": [],
   "source": [
    "# Set seed for experiment reproducibility\n",
    "seed = 42\n",
    "tf.random.set_seed(seed)\n",
    "np.random.seed(seed)"
   ]
  },
  {
   "cell_type": "code",
   "execution_count": 4,
   "id": "incredible-numbers",
   "metadata": {},
   "outputs": [],
   "source": [
    "i16min = -2**15\n",
    "i16max = 2**15-1\n",
    "fsamp = 16000\n",
    "wave_length_ms = 1000\n",
    "wave_length_samps = int(wave_length_ms*fsamp/1000)\n",
    "window_size_ms=60\n",
    "window_step_ms=40\n",
    "num_filters = 32\n",
    "use_microfrontend = True\n",
    "# dataset = 'mini-speech'\n",
    "# dataset = 'full-speech-ds' # use the full speech commands as a pre-built TF dataset \n",
    "dataset = 'full-speech-files' # use the full speech commands stored as files \n",
    "\n",
    "silence_str = \"_silence\"  \n",
    "unknown_str = \"_unknown\"\n",
    "EPOCHS = 25"
   ]
  },
  {
   "cell_type": "code",
   "execution_count": 96,
   "id": "e130506d",
   "metadata": {},
   "outputs": [
    {
     "data": {
      "text/plain": [
       "24.5"
      ]
     },
     "execution_count": 96,
     "metadata": {},
     "output_type": "execute_result"
    }
   ],
   "source": [
    "((wave_length_ms - window_size_ms) /window_step_ms) + 1\n"
   ]
  },
  {
   "cell_type": "code",
   "execution_count": 90,
   "id": "ab215f29",
   "metadata": {},
   "outputs": [
    {
     "data": {
      "text/plain": [
       "960.0"
      ]
     },
     "execution_count": 90,
     "metadata": {},
     "output_type": "execute_result"
    }
   ],
   "source": [
    "window_size_ms * fsamp /1000"
   ]
  },
  {
   "cell_type": "markdown",
   "id": "3a48ec4e",
   "metadata": {},
   "source": [
    "model.input.shape[1]"
   ]
  },
  {
   "cell_type": "markdown",
   "id": "outstanding-movement",
   "metadata": {},
   "source": [
    "Apply the frontend to an example signal."
   ]
  },
  {
   "cell_type": "code",
   "execution_count": 9,
   "id": "rising-oracle",
   "metadata": {},
   "outputs": [],
   "source": [
    "commands = ['orange', 'sheila'] \n",
    "if dataset == 'mini-speech':\n",
    "    data_dir = pathlib.Path(os.path.join(os.getenv(\"HOME\"), 'data/mini_speech_commands'))\n",
    "    if not data_dir.exists():\n",
    "        tf.keras.utils.get_file('mini_speech_commands.zip',\n",
    "            origin=\"http://storage.googleapis.com/download.tensorflow.org/data/mini_speech_commands.zip\",\n",
    "            extract=True, cache_dir='.', cache_subdir='data')\n",
    "  # commands = np.array(tf.io.gfile.listdir(str(data_dir))) # if you want to use all the command words\n",
    "  # commands = commands[commands != 'README.md']\n",
    "elif dataset == 'full-speech-files':\n",
    "    data_dir = pathlib.Path('D:\\Datasets\\speech_commands_v0.02.tar')\n",
    "    #data_dir = pathlib.Path(os.path.join(os.getenv(\"HOME\"), 'data/speech_commands_files_0.2'))\n",
    "\n",
    "elif dataset == 'full-speech-ds':\n",
    "    raise RuntimeError(\"full-speech-ds is not really supported yet\")"
   ]
  },
  {
   "cell_type": "code",
   "execution_count": 10,
   "id": "2e571f98-2d10-4809-ae2e-abd8d202181a",
   "metadata": {},
   "outputs": [
    {
     "data": {
      "text/plain": [
       "WindowsPath('D:/Datasets/speech_commands_v0.02.tar')"
      ]
     },
     "execution_count": 10,
     "metadata": {},
     "output_type": "execute_result"
    }
   ],
   "source": [
    "data_dir"
   ]
  },
  {
   "cell_type": "code",
   "execution_count": 11,
   "id": "precious-graph",
   "metadata": {},
   "outputs": [
    {
     "name": "stdout",
     "output_type": "stream",
     "text": [
      "label_list: ['_silence', '_unknown', 'orange', 'sheila']\n"
     ]
    }
   ],
   "source": [
    "label_list = commands.copy()\n",
    "label_list.insert(0, silence_str)\n",
    "label_list.insert(1, unknown_str)\n",
    "print('label_list:', label_list)"
   ]
  },
  {
   "cell_type": "code",
   "execution_count": 7,
   "id": "e08637a7-35d4-493c-b3c9-31ea358de82d",
   "metadata": {},
   "outputs": [
    {
     "name": "stderr",
     "output_type": "stream",
     "text": [
      "'ls' is not recognized as an internal or external command,\n",
      "operable program or batch file.\n"
     ]
    }
   ],
   "source": [
    "!ls $data_dir/"
   ]
  },
  {
   "cell_type": "code",
   "execution_count": 12,
   "id": "surprising-adjustment",
   "metadata": {
    "scrolled": true
   },
   "outputs": [
    {
     "name": "stdout",
     "output_type": "stream",
     "text": [
      "Number of total examples: 118471\n",
      "Example file tensor: tf.Tensor(b'D:\\\\Datasets\\\\speech_commands_v0.02.tar\\\\off\\\\10ace7eb_nohash_0.wav', shape=(), dtype=string)\n"
     ]
    }
   ],
   "source": [
    "if dataset == 'mini-speech' or dataset == 'full-speech-files':\n",
    "    filenames = tf.io.gfile.glob(str(data_dir) + '/*/*.wav') \n",
    "    # with the next commented-out line, you can choose only files for words in label_list\n",
    "    # filenames = tf.concat([tf.io.gfile.glob(str(data_dir) + '/' + cmd + '/*') for cmd in label_list], 0)\n",
    "    filenames = tf.random.shuffle(filenames)\n",
    "    num_samples = len(filenames)\n",
    "    print('Number of total examples:', num_samples)\n",
    "    # print('Number of examples per label:',\n",
    "    #       len(tf.io.gfile.listdir(str(data_dir/commands[0]))))\n",
    "    print('Example file tensor:', filenames[0])"
   ]
  },
  {
   "cell_type": "code",
   "execution_count": 13,
   "id": "ranging-version",
   "metadata": {},
   "outputs": [
    {
     "data": {
      "text/plain": [
       "<tf.Tensor: shape=(118471,), dtype=string, numpy=\n",
       "array([b'D:\\\\Datasets\\\\speech_commands_v0.02.tar\\\\off\\\\10ace7eb_nohash_0.wav',\n",
       "       b'D:\\\\Datasets\\\\speech_commands_v0.02.tar\\\\two\\\\d1214f15_nohash_1.wav',\n",
       "       b'D:\\\\Datasets\\\\speech_commands_v0.02.tar\\\\seven\\\\626e323f_nohash_1.wav',\n",
       "       ...,\n",
       "       b'D:\\\\Datasets\\\\speech_commands_v0.02.tar\\\\on\\\\6c9a1ac2_nohash_1.wav',\n",
       "       b'D:\\\\Datasets\\\\speech_commands_v0.02.tar\\\\dog\\\\6c9a1ac2_nohash_0.wav',\n",
       "       b'D:\\\\Datasets\\\\speech_commands_v0.02.tar\\\\orange\\\\orange_Sample335_RShift2_1.wav'],\n",
       "      dtype=object)>"
      ]
     },
     "execution_count": 13,
     "metadata": {},
     "output_type": "execute_result"
    }
   ],
   "source": [
    "filenames\n",
    "# tf.strings.split(filenames[0], os.path.sep)[-2].numpy().decode('utf8')"
   ]
  },
  {
   "cell_type": "code",
   "execution_count": 14,
   "id": "assured-capture",
   "metadata": {},
   "outputs": [
    {
     "name": "stdout",
     "output_type": "stream",
     "text": [
      "D:\\Datasets\\speech_commands_v0.02.tar\\off\\10ace7eb_nohash_0.wav\n",
      "D:\\Datasets\\speech_commands_v0.02.tar\\two\\d1214f15_nohash_1.wav\n",
      "D:\\Datasets\\speech_commands_v0.02.tar\\seven\\626e323f_nohash_1.wav\n",
      "D:\\Datasets\\speech_commands_v0.02.tar\\orange\\orange_Sample663_LShift2_0.wav\n",
      "D:\\Datasets\\speech_commands_v0.02.tar\\orange\\orange_Sample26_LShift3_0.wav\n",
      "D:\\Datasets\\speech_commands_v0.02.tar\\seven\\31d68957_nohash_2.wav\n",
      "D:\\Datasets\\speech_commands_v0.02.tar\\orange\\orange_Sample50_Noise3_Multiplier1.wav\n",
      "D:\\Datasets\\speech_commands_v0.02.tar\\five\\c4e1f6e0_nohash_0.wav\n",
      "D:\\Datasets\\speech_commands_v0.02.tar\\cat\\3e2ba5f7_nohash_0.wav\n",
      "D:\\Datasets\\speech_commands_v0.02.tar\\bird\\d21fd169_nohash_0.wav\n"
     ]
    }
   ],
   "source": [
    "# Not really necessary, but just look at a few of the files to make sure that \n",
    "# they're the correct files, shuffled, etc.\n",
    "for i in range(10):\n",
    "    print(filenames[i].numpy().decode('utf8'))"
   ]
  },
  {
   "cell_type": "code",
   "execution_count": 52,
   "id": "printable-nevada",
   "metadata": {},
   "outputs": [
    {
     "name": "stdout",
     "output_type": "stream",
     "text": [
      "full-speech-files is in progress.  Good luck!\n",
      "Training set size 94963\n",
      "Validation set size 11186\n",
      "Test set size 12316\n"
     ]
    }
   ],
   "source": [
    "if dataset == 'mini-speech':\n",
    "    print('Using mini-speech')\n",
    "    num_train_files = int(0.8*num_samples) \n",
    "    num_val_files = int(0.1*num_samples) \n",
    "    num_test_files = num_samples - num_train_files - num_val_files\n",
    "    train_files = filenames[:num_train_files]\n",
    "    val_files = filenames[num_train_files: num_train_files + num_val_files]\n",
    "    test_files = filenames[-num_test_files:]\n",
    "elif dataset == 'full-speech-files':  \n",
    "  # the full speech-commands set lists which files are to be used\n",
    "  # as test and validation data; train with everything else\n",
    "    fname_val_files = os.path.join(data_dir, 'validation_list.txt')    \n",
    "    with open(fname_val_files) as fpi_val:\n",
    "        val_files = fpi_val.read().splitlines()\n",
    "  # validation_list.txt only lists partial paths\n",
    "    val_files = [os.path.join(data_dir, fn) for fn in val_files]\n",
    "    val_files = [w.replace('/', '\\\\') for w in val_files]\n",
    "    \n",
    "    #doing the same for custom orange samples in for validation\n",
    "  #  orange_dir = pathlib.Path(r'C:\\Users\\user\\Documents\\School\\Spring 2023\\Untitled Folder')\n",
    "  #  name_orange_val_files = os.path.join(orange_dir, 'validation_list.txt')\n",
    "  #  with open(name_orange_val_files) as fpi_val:\n",
    "  #      orange_val_files = fpi_val.read().splitlines()\n",
    "        \n",
    "  #  orange_val_files = [os.path.join(data_dir, fn) for fn in orange_val_files]\n",
    "    \n",
    "    #doing the same for custom orange samples for testing\n",
    "  #  name_orange_test_files = os.path.join(orange_dir, 'testing_list.txt')\n",
    "  #  with open(name_orange_test_files) as fpi_val:\n",
    "  #      orange_test_files = fpi_val.read().splitlines()\n",
    "        \n",
    "  #  orange_test_files = [os.path.join(data_dir, fn) for fn in orange_test_files]\n",
    "    \n",
    "    #original testing list\n",
    "    fname_test_files = os.path.join(data_dir, 'testing_list.txt')\n",
    "\n",
    "    with open(fname_test_files) as fpi_tst:\n",
    "        test_files = fpi_tst.read().splitlines()\n",
    "  # testing_list.txt only lists partial paths\n",
    "    test_files = [os.path.join(data_dir, fn).rstrip() for fn in test_files]\n",
    "    test_files = [w.replace('/', '\\\\') for w in test_files]\n",
    "\n",
    "    #combining orange val with original val\n",
    "   # print('orange validation set size', len(orange_val_files))\n",
    "    #print('original validaiton set size', len(val_files))\n",
    "    #val_files = set(val_files).update(set(orange_val_files))\n",
    "    #print('validation set size with orange', len(val_files))\n",
    "    \n",
    "    #combining orange test with original test\n",
    "    #print('orange testing set size', len(orange_test_files))\n",
    "    #print('original validaiton set size', len(test_files))\n",
    "    #test_files = set(test_files).update(set(orange_test_files))\n",
    "    #print('validation set size with orange', len(test_files))\n",
    "    \n",
    "  # convert the TF tensor filenames into an array of strings so we can use basic python constructs\n",
    "    train_files = [f.decode('utf8') for f in filenames.numpy()]\n",
    "  # don't train with the _background_noise_ files; exclude when directory name starts with '_'\n",
    "    train_files = [f for f in train_files if f.split('\\\\')[-2][0] != '_']\n",
    "  # validation and test files are listed explicitly in *_list.txt; train with everything else\n",
    "    train_files = list(set(train_files) - set(test_files) - set(val_files))\n",
    "  # now convert back into a TF tensor so we can use the tf.dataset pipeline\n",
    "    train_files = tf.constant(train_files)    \n",
    "    print(\"full-speech-files is in progress.  Good luck!\")\n",
    "elif dataset == 'full-speech-ds':  \n",
    "    print(\"Using full-speech-ds. This is in progress.  Good luck!\")\n",
    "else:\n",
    "    raise ValueError(\"dataset must be either full-speech-files, full-speech-ds or mini-speech\")\n",
    "print('Training set size', len(train_files))\n",
    "print('Validation set size', len(val_files))\n",
    "print('Test set size', len(test_files))"
   ]
  },
  {
   "cell_type": "code",
   "execution_count": 24,
   "id": "ebcee42b",
   "metadata": {},
   "outputs": [],
   "source": []
  },
  {
   "cell_type": "code",
   "execution_count": 16,
   "id": "23032d3c",
   "metadata": {},
   "outputs": [
    {
     "data": {
      "text/plain": [
       "'D:\\\\Datasets\\\\speech_commands_v0.02.tar\\\\validation_list.txt'"
      ]
     },
     "execution_count": 16,
     "metadata": {},
     "output_type": "execute_result"
    }
   ],
   "source": []
  },
  {
   "cell_type": "code",
   "execution_count": 26,
   "id": "connected-polish",
   "metadata": {},
   "outputs": [],
   "source": [
    "def decode_audio(audio_binary):\n",
    "    audio, _ = tf.audio.decode_wav(audio_binary)\n",
    "    return tf.squeeze(audio, axis=-1)"
   ]
  },
  {
   "cell_type": "code",
   "execution_count": 27,
   "id": "third-leave",
   "metadata": {},
   "outputs": [],
   "source": [
    "# @tf.function\n",
    "def get_label(file_path):\n",
    "    parts = tf.strings.split(file_path, os.path.sep)\n",
    "    in_set = tf.reduce_any(parts[-2] == label_list)\n",
    "    label = tf.cond(in_set, lambda: parts[-2], lambda: tf.constant(unknown_str))\n",
    "  # print(f\"parts[-2] = {parts[-2]}, in_set = {in_set}, label = {label}\")\n",
    "  # Note: You'll use indexing here instead of tuple unpacking to enable this \n",
    "  # to work in a TensorFlow graph.\n",
    "    return  label # parts[-2]"
   ]
  },
  {
   "cell_type": "code",
   "execution_count": 28,
   "id": "false-cambodia",
   "metadata": {},
   "outputs": [],
   "source": [
    "def get_waveform_and_label(file_path):\n",
    "    label = get_label(file_path)\n",
    "    audio_binary = tf.io.read_file(file_path)\n",
    "    waveform = decode_audio(audio_binary)\n",
    "    return waveform, label"
   ]
  },
  {
   "cell_type": "code",
   "execution_count": 29,
   "id": "injured-december",
   "metadata": {},
   "outputs": [],
   "source": [
    "def get_spectrogram(waveform):\n",
    "    # Concatenate audio with padding so that all audio clips will be of the \n",
    "    # same length (16000 samples)\n",
    "    zero_padding = tf.zeros([wave_length_samps] - tf.shape(waveform), dtype=tf.int16)\n",
    "    waveform = tf.cast(0.5*waveform*(i16max-i16min), tf.int16)  # scale float [-1,+1]=>INT16\n",
    "    equal_length = tf.concat([waveform, zero_padding], 0)\n",
    "    ## Make sure these labels correspond to those used in micro_features_micro_features_generator.cpp\n",
    "    spectrogram = frontend_op.audio_microfrontend(equal_length, sample_rate=fsamp, num_channels=num_filters,\n",
    "                                    window_size=window_size_ms, window_step=window_step_ms)\n",
    "    return spectrogram\n"
   ]
  },
  {
   "cell_type": "markdown",
   "id": "competent-newark",
   "metadata": {},
   "source": [
    "Function to convert each waveform in a set into a spectrogram, then convert those\n",
    "back into a dataset using `from_tensor_slices`.  (We should be able to use \n",
    "`wav_ds.map(get_spectrogram_and_label_id)`, but there is a problem with that process).\n",
    "   "
   ]
  },
  {
   "cell_type": "code",
   "execution_count": 30,
   "id": "normal-productivity",
   "metadata": {},
   "outputs": [],
   "source": [
    "def create_silence_dataset(num_waves, samples_per_wave, rms_noise_range=[0.01,0.2], silent_label=silence_str):\n",
    "    # create num_waves waveforms of white gaussian noise, with rms level drawn from rms_noise_range\n",
    "    # to act as the \"silence\" dataset\n",
    "    rng = np.random.default_rng()\n",
    "    rms_noise_levels = rng.uniform(low=rms_noise_range[0], high=rms_noise_range[1], size=num_waves)\n",
    "    rand_waves = np.zeros((num_waves, samples_per_wave), dtype=np.float32) # pre-allocate memory\n",
    "    for i in range(num_waves):\n",
    "        rand_waves[i,:] = rms_noise_levels[i]*rng.standard_normal(samples_per_wave)\n",
    "    labels = [silent_label]*num_waves\n",
    "    return tf.data.Dataset.from_tensor_slices((rand_waves, labels))  "
   ]
  },
  {
   "cell_type": "code",
   "execution_count": 51,
   "id": "awful-national",
   "metadata": {},
   "outputs": [],
   "source": [
    "def wavds2specds(waveform_ds, verbose=True):\n",
    "    wav, label = next(waveform_ds.as_numpy_iterator())\n",
    "    one_spec = get_spectrogram(wav)\n",
    "    one_spec = tf.expand_dims(one_spec, axis=0)  # add a 'batch' dimension at the front\n",
    "    one_spec = tf.expand_dims(one_spec, axis=-1) # add a singleton 'channel' dimension at the back    \n",
    "\n",
    "    num_waves = 0 # count the waveforms so we can allocate the memory\n",
    "    for wav, label in waveform_ds:\n",
    "        num_waves += 1\n",
    "    print(f\"About to create spectrograms from {num_waves} waves\")\n",
    "    spec_shape = (num_waves,) + one_spec.shape[1:] \n",
    "    spec_grams = np.nan * np.zeros(spec_shape)  # allocate memory\n",
    "    labels = np.nan * np.zeros(num_waves)\n",
    "    idx = 0\n",
    "    for wav, label in waveform_ds:    \n",
    "        if verbose and idx % 250 == 0:\n",
    "            print(f\"\\r {idx} wavs processed\", end='')\n",
    "        spectrogram = get_spectrogram(wav)\n",
    "        # TF conv layer expect inputs structured as 4D (batch_size, height, width, channels)\n",
    "        # the microfrontend returns 2D tensors (freq, time), so we need to \n",
    "        spectrogram = tf.expand_dims(spectrogram, axis=0)  # add a 'batch' dimension at the front\n",
    "        spectrogram = tf.expand_dims(spectrogram, axis=-1) # add a singleton 'channel' dimension at the back\n",
    "        spec_grams[idx, ...] = spectrogram\n",
    "        new_label = label.numpy().decode('utf8')\n",
    "        new_label_id = np.argmax(new_label == np.array(label_list))    \n",
    "        labels[idx] = new_label_id # for numeric labels\n",
    "        # labels.append(new_label) # for string labels\n",
    "        idx += 1\n",
    "    labels = np.array(labels, dtype=int)\n",
    "    output_ds = tf.data.Dataset.from_tensor_slices((spec_grams, labels))  \n",
    "    return output_ds"
   ]
  },
  {
   "cell_type": "code",
   "execution_count": 53,
   "id": "appropriate-circus",
   "metadata": {},
   "outputs": [
    {
     "name": "stdout",
     "output_type": "stream",
     "text": [
      "About to create spectrograms from 94963 waves\n",
      " 94750 wavs processed"
     ]
    }
   ],
   "source": [
    "AUTOTUNE = tf.data.experimental.AUTOTUNE\n",
    "num_train_files = len(train_files)\n",
    "files_ds = tf.data.Dataset.from_tensor_slices(train_files)\n",
    "waveform_ds = files_ds.map(get_waveform_and_label, num_parallel_calls=AUTOTUNE)\n",
    "train_ds = wavds2specds(waveform_ds)"
   ]
  },
  {
   "cell_type": "code",
   "execution_count": 54,
   "id": "objective-consideration",
   "metadata": {
    "scrolled": true
   },
   "outputs": [
    {
     "data": {
      "image/png": "[encoded data removed]",
      "text/plain": [
       "<Figure size 720x864 with 9 Axes>"
      ]
     },
     "metadata": {
      "needs_background": "light"
     },
     "output_type": "display_data"
    }
   ],
   "source": [
    "rows = 3\n",
    "cols = 3\n",
    "n = rows*cols\n",
    "fig, axes = plt.subplots(rows, cols, figsize=(10, 12))\n",
    "for i, (audio, label) in enumerate(waveform_ds.take(n)):\n",
    "    r = i // cols\n",
    "    c = i % cols\n",
    "    ax = axes[r][c]\n",
    "    ax.plot(audio.numpy())\n",
    "    ax.set_yticks(np.arange(-1.2, 1.2, 0.2))\n",
    "    label = label.numpy().decode('utf-8')\n",
    "    ax.set_title(label)\n",
    "\n",
    "plt.show()"
   ]
  },
  {
   "cell_type": "code",
   "execution_count": 55,
   "id": "positive-honolulu",
   "metadata": {},
   "outputs": [
    {
     "name": "stdout",
     "output_type": "stream",
     "text": [
      "Label: _unknown\n",
      "Waveform shape: (16000,)\n",
      "Spectrogram shape: (24, 32)\n",
      "Audio playback\n"
     ]
    },
    {
     "data": {
      "text/html": [
       "\n",
       "                <audio  controls=\"controls\" >\n",
       "                    <source src=\"data:audio/wav;base64,UklGRiR9AABXQVZFZm10IBAAAAABAAEAgD4AAAB9AAACABAAZGF0YQB9AAD+/wcABwD+//n//v8FAAcAAgAAAAAAAgAKAAUA9P/x/wIACgAAAP7/CgAPAAIA+//0/+7/+f8MABQADAAAAPn/9v/5/+7/3P/s/wIAAAD5//7/BQAAAAAADAAPAAcA9P/u//7/AAD5//7/BQAAAAIADAACAPT/+/8SABwAGQAMAAAAAAAAAAAAAAAAAAAABQAMAAUA+//x//H/9v/7/wAAAAAAAPv/+f/7//n/7P/p//H/9P/u/+f/7v/+//7/+f/0//T/7v/k/+L/6f/x//b/+/8AAAcADAAFAAAAAAAAAAAAAgAHAAwAFAASAA8ADwAHAAAAAAAKAAUA/v8KABIAAgD0//b/AAAKAAoAAAAHAB4AJAAPAP7/+f8AAA8ABwD+/wAAAAAAAAAA7P/f/+f/4v/u/wAAAAAPABQABwD5/+7/9v8FAAoACgAHAAUACgAHAP7/AgASAA8AEgAPAPv/+/8AAPn/+/8CAAAA+/8KABIADAASAAoA+/8HAAoA+//5//b/9v8CAAAA7v/u//7/AgD+//H/7P/p//T/AAD+/wAA/v/5/wIABwDu/9r/5P/u//T/7v/p/+7/7v/u//T/9v/2/+n/5P/0//H/6f/u/+n/7P/7//n/8f/x//T/AAD+//T/9P/+/wUA+f/p/+n/6f/s/+z/7P/x/+z/5//p/+7/7v/0//v/AAAFAAAA/v8KAA8ABQAAAAAA9v/x//v/AgD7//b/AgASAAoA+f/7/wcABQAHAAwAAAD7//v/AAACAOz/3P/x//7//v8AAPb/7v/0//H/8f/5/wAAAAAAAP7/AAD7//n/BQAFAAAABwAFAAIAAgAKABcADAD7//n/9P/x/wAACgASABQACgAXAB4AAAD0//v/7P/u/wAA9v/0/wAAAAAHAAwAAAD7/wAAAAAAAAAA+f/x//7/FwASAPv//v8AAAAADAAHAP7/AgAFAAAAAgD+/+n/5P/7/wcA+//x//v/AAD5/+z/7v8CAAUA+//+/wAA+//5//n/9v/5//T/7v/5//n/8f/s/+7/9v/7//n/8f/5/wAAAgD+//n/+//+//v//v8AAAIABwAAAPn/AAAFAPT/5P/0//n/8f/2/wAA+//7/wAAAAD+//n/+f/+/wAAAAAAAAIAAAD+/wcAAgDx//T/BQAHAAAAAAAHAAoAAgD2/+7/9v/+/wAADAAUAAcAAAAAAP7/+f/+/wUAAgD5//T//v8FAAAA/v8AAAAA9v/2//7/9v/p//H/AgACAAAAAAAFAAUA9v/p/+7/AAAHAAUA/v/x/+T/8f/+/wAAAAAKABkADAD5/+z/5//s//7/FAAeAA8AAAACAAwABwD+//7/DAAZABIABwAKAAwADAASAAoA/v8FABkAFAAAAPn/+f/+/wIAAgAAAAoADAAAAP7/AAD+//v/BQAHAP7/+//+//7//v8HABIAFwAUAAoAAAAAAPv/8f/5/xcAFwAAAAcAHgASAPv/AAAPAAwABwAHAAIA+f/s/+n/9P/+/wUAEgAUAAcAAAAHABcACgD2//n/BwAMAAcABQAFAAIACgAMAAUA9P/s//7/FwAZAAoABwAKAPv/7P/0//v/9v/0//7/AAD+//v//v8FAAcAAAD5//n/9v/u//T//v/5//T/+/8CAPn/9P/5/+z/3//s//n/7P/i/+T/8f/5//b/+f8AAAIAAAAAAAIAAAD+/wcADAAFAP7//v8CAA8ADAD+//v/+f/u/+7/9P/s/+n//v8CAO7/1//i//n/AgD+//T/+/8CAAUABwAFAPv/9v8KACQADwDx//7/FwAMAPv/AAAFAAAA/v8CAAUABwAUAB4AFwAKAAoAFAAXAA8ACgAMAA8AFwAXAAUAAgASAA8A+f/s//b//v8FAAcA9v/x/wUADAAAAPn/AAAAAPn/9v/5//n/+f/7//7/9v/s//H/AAD+//T/9P/+//n/6f/k//H//v8AAP7/9P/0/wAAAgAAAPb/8f/2/wAABQAAAPT/9v8FAA8AAgD2//7/CgAHAPn/8f/7/wUAAgD+//T/7v/5/woAEgAKAAwAFwASAAoABQD7//b/AAAHAP7/9P/+/w8AEgD+//H/+f8AAAAAAAD7//T/AgAUAAIA7P/7/w8ACgAHAAoAAgACABQAEgD+//7/BwASABQADAAFAAcADwAFAAAAAAACAAAA+f/5//v/AAAKABcADAAAAAUAEgAMAP7/AAAKAAwACgAHAA8AFwAcABIABwAAAPv//v8FAPv/3//n/wIACgAFAAAAAAD+/wAAAAD0//H//v8CAAIA+f/u/wAAFwAMAPv/AAAPAAwA+//2//7/AgAAAAAA/v/u//H/BwAXAAcA9P/+/xQAFAAFAAAABQAMAAwABwACAPn/AAASAAoA8f/p//v/BwD0/9r/7v8FAAAA/v8AAAAA+/8CAAwA9P/a/+n/DwAZAPn/9v8HAAcACgAKAP7/EgAeAAcADwAUAP7/AAAMAAoA+//u//b/AgAAAPT/7P/u/+z/7P/0//v/+f/2//v/AADp/+T//v8FAP7/9P/5/w8ADAD+/wAAAgAAAAIAAgD+/wAABwACAAUA+f/c//H/DwDx/9X/9P/+//H/+/8AAP7/AAD+//v/AgAFAAAAAAAHAPH/3P/2/woA8f/k/wAADwACAPn/8f/x//7/BQACAP7/9P/0/wIABwAAAP7/BwAhABkABQAKAAUAAAD+/wUADAACAAoAHgAPAPT/9P8CAA8AAADu//v/AgD7//v/+f/u//b/AAAMAAwAAAACAAcAAAD+//v/9v8FAAcA+f/7/wIABQAHAPv/5//s//v//v8AAP7/8f/2//7/5P/c/wAADAACAAcAFAASAAIABQAMAAAA+f8CAAoAEgASAA8AGQAUAAIAAAACAAAA+//+/wAA/v/+/wUABwAAAPb/9v8HABQABwD+/woADAAKAAUAAgACAP7/BwAeABQAAgAMABIABQAAAAIA/v/x//7/AgDs/+7/6f/a/+L/3//c//H/8f/f/9z/9P8FAO7/3//u//b/9P/n/9r/5P/5/wcABQDn/9//8f/x//H/9v/0/+7/7v/2//7/9v/k/+L/5//f/9f/6f/+/wAAAAD+/+7/8f/+//v/8f/5/wUADAAKAAAA9P/p/+f/5//u/+z/4v/s/wAA9v/c/9X/4v/0//n/6f/k//b/DwAMAPv/+f8CAAoADwAKAAAA+/8CAAoA/v/s/+7/9P/p/+L/9v8FAAIA+f/0//b/BQAMAAUA+f/2//7/DAAeAAwA9P/7/wUA9v/s//v/BQAKABQAEgAFAAUACgD7/+z/6f/2/wAAAADx/+z/+f8CAPv/9v/5/wAA+//k/9L/2v/u//T/7P/p/+z/8f/+/woAAgDn/+L/8f/u/+f/5//u//b/9v/u/+7/+//+//7/AADp/9X/3//0/wAA9P/f/+n/7P/i/+f/4v/i//b/9P/k/+f/7P/s/+n/0v+7/8X/3P/V/8j/z//N/8j/zf/N/8X/wP/I/9f/1//X/8r/w//a/+L/2v/n/+L/3P/i/9//4v/k/9L/yv/X/9X/1f/c/9X/z//S/83/z//X/9X/z//S/9r/1f/A/7b/xf/P/8//zf/N/9f/3P/a/9f/1f/V/9f/5P/i/9X/1f/N/8D/yv/D/7P/xf/X/83/u//K/9r/zf/S/9z/3P/p//H/4v/S/8r/0v/i/9//z//K/+L/6f/V/9f/3P/F/8//6f/a/8X/vf/K/9f/0v/P/9X/3P/u/+z/z/+9/8X/1f/c/9//5P/u//H/7v/n/9f/xf+7/8j/3P/k/+z/8f/p/9r/2v/k/9z/zf/P/9z/4v/c/9r/4v/k/9z/2v/x//7/6f/k//n/AAD+//v/AAAMABIADAAHABQAGQAPABIAIQApAC4AQABIAEUARQBKAEgAQABAAE0AUgBNAEoAWgBiAFwAYgBsAGkAZwBuAH4AgQB5AHYAgwCYAJgAiwCGAIsAkwCVAJMAgwB7AIYAkwCNAIEAgQCQAJUAgwB0AIEAjQCIAIsAkwB7AGcAbABkAE8ATQBaAFcASABFAEMAQABAAD0AQwA4ABkAJgBIAEAALgAeABcAKQAmABQAFwAhACQAKwAzAC4AHAAZAB4AFAD+//H/+/8KAAIA+//+/wIA/v/u/+z//v/0/+7/AAAAAPn/AgACAO7/7v8CAAcACgAFAAIADAAKAPT/4v/p//b/AAAKAAUA+f8CABcADAD2/+f/7v/7/+z/3P/p//n/+f/5//n/+//+/wUACgD2/+n/9v8CAAoACgD+//v/AgACAPb/5P/a/+7/AgD5/+7/9P/0/+z/7v/2//n/9P8AAAcA9P/0/wIA+f/s//T/AAAAAAAABwAMAPv/+f8CAAAA/v/0//H/+/8AAPb/7P/n/+f/5P/p//T/9P/s//H//v8CAPn/7v/5/wAAAAAAAAIACgAHAAAABQAFAAAABQAFAAAAAgAAAAAABwACAAIAAgAAAAAAAgAAAAAAAAD5//v/+//7/wUABQAAABIAFwAMAAoABwAHAAUA+f/x//n/AAAKAAoA/v8CAAUAAAD+//v/8f/x/wcADAD2//H/AAAMAAwAAAD7/wAABQAKAAAA9v/7/wIACgASAAIAAAAMAAoAAAAAAP7/BwAPAPn/9P/2//T/BQAHAPn//v8AAP7/CgAHAPT/+f8CAAAAAgD+/wAADAAFAPT/+f/5//n//v8AAAAAAAAAAPn/6f/s//T/7P/x/wAAAAD7/+7/7v/+/wIAAgD+//7/BwAPAAwA/v/5/wAADwAUAAUAAAAHAP7/AAAKAPn/7P/5//n/+//7//T//v8HABcAEgDu/+L/8f/2//7//v/x//b/AAD+/wIACgAAAP7//v/7/wcABQDk/+f/AgD2/+z/9v/2//n/+f/2//v/+//0//b/9v/x//H/9P/7/wAA+//7/wAAAAD5//b/+/8AAAAAAAAMAA8AAAD+/wcAAAD2//7/BwAHAAcAAgD+/wAABQACAAcACgAAAAoAEgAFAAAABQAFAAUAAAD+/wUABwAHAAoABQAKAAwAAgAAAPn/7v/7/wAA+f/+/wIADAAUAAAA6f/s//n/BwAZAAoA+f/+/woACgD7//b/AAAHAAUAAgACAAIA+//7//7/AAAAAAAAAAD0/+z/9v8AAPn/5//i//T/9v/i/+f/AgAKAAcAAgAAAPv//v8CAAAA9v/s//H/BQAUAAcA/v8CAAUAAgD7//b/8f/2//7//v/2//T/9v/0//H/7v/0//7/+//x/+7/+f8AAAUACgAKAAcADAASAAoAAAAAAAAABQACAP7/+f/5/wAAAgACAP7/8f/x//7/CgAHAAAAAgAKAA8ABQD7//H/9v8HAA8ACgAFAAUAAADx/9//2v/i/+z/9P/+/wAAAAAAAAAA+f/s/+z/9v/7//7/AAAFAAoADwAMAAIAAgAKAAoABQAFAAcACgAKAAIA/v/7//v/+//+/wAA/v/2//n/BwAKAPn/5//u//7/AAD5//n/+//+/wIABQD+/+7/9P8AAAIAAgAKABIADwAMAAcA/v/2//n//v/7//v/AAAAAAAAAgD+//n/AAD+/+z/9P8CAPn/9P/+//7/8f/x/wIADAAPAAcABQAHAAUAAAAFAAUAAAAAAA8AEgACAAAAAgD5//H/9P/0//H/9P/x/+z/8f/+/wAAAAAAAP7/+f/5//7/AAAAAAAAAAD5//T/AAAMAA8ADwAPAAoABwAHAAAA+f/7//7//v8FABQADwAHAAoADwAMAAcAAAD+/wAAAgAMABIAAgDx//b/AgAAAPv/+//+/wUAEgACAOz/9v8SABcABQD+//b/9v/+/wAA7P/f//H/AgACAP7/+f/+/wwAHAAXAAUAAgACAAAAAAAAAP7//v8CAAwABQD2//T/+//x/9r/5//+/wAA9v/5/wAA9v/p//T/BQACAP7/AAAAAP7/8f/s/+z/5//p//H/8f/2/wUABQD5//n/AgACAP7/AAACAPv/9P/x/+7/+//+/+7/1//a/+7/8f/n/+n/8f/x//T/AAD+/+z/7P8AAAIA+//7/wAAAAACAAcABwAKAAcAAgAAAAAA+f/2//7/AAAAAAwADAAAAAIABwAAAP7/AAACAAIAAAAAAPv/AAD+//H/9v8CAAAA+f/7/wUAAADp/9z/4v/s/+z/9v/+//b/9P/+/wAA9P/x//7/BwAPAAoAAAD+/wAAAAD+/wAAAAAAAP7/9P/p//T/AgACAPn/7P/s//n/AADx/+z/9v/u/9r/3//n/+T/9v8CAPv/8f/+/wUA9v/s//H/8f/s//n/AAAAAPv/9v/7/wIABQACAAAAAgACAP7/8f/n/+z/+//7//T/+/8PABIABQD+//n/+/8MABkACgAAAAAAAAAAAAAA+//x//n/AAAAAPH/3//i//H/BwAPAAIA+f/2//T/9v8AAAIAAgAFAAIA9v/u/+7/9P/7//7/8f/p//n/+//p/+z/AAD+//H/8f/5/wAAAAD+//7/AAD+//b/7P/f/+T/9v8AAAAAAAACAAAAAgAFAPv/8f/u/+L/3//x//T/5P/u/wAA+//s/+7/9v/u//H/BwAkACEADAACAAIA8f/k//b/AgD+/wcAHAAXAAUAAgAFAAUAAgD+//v//v/x/+n/9v/2/+T/5//7/wAA+//5//b/9v/2/+z/6f/x//H/+/8MAAcA7P/x//v/3//S/+z/AAD5//b/AAAPABIAAAD5/wIABQD7//7/AgAAAAAAEgAUAAAA+/8AAAIAAADx//b/FwAeAAUAAgAMAAUAAAD5//v/DAAHAAcAHAASAP7/CgASAAIA+//+//7/+/8FAAwABQAMAAoA7P/u//v/7v/0/wIA/v8CAAoA9v/n//b//v/7//n/8f/u//b/9P/p//b/DwAHAPH//v8MAAIAAgAXACYAKwAkAA8AAAAKABQACgACABQAFwASABcADwAHAAoAAgAHAB4AHAAcACkAHAAZACEABwDu//H/+/8FAAUAAAAKAAoA/v/+/wAA9v/n/+f/7v/n/9z/4v/p//b/9v/s//b/AAD2//T/+/8CAAAA+/8FAAUA9v/2//v/+/8KAAwADwAeABIA+/8HACQAJAAcABkAFAAUABQAGQAmACkAIQAeACQAHgASABQAFwAKAAAA+f/7/wIAAgACAP7/+//+/+7/5//s/+n/+f8AAOf/5P/7//7//v8AAPv/AAACAP7/+/8CAAAA+/8HAAwAAgACAAUAAAD7//b/9P/2/wUACgAMABQACgD7/wAAEgAMAA8AEgAHABIAGQAKAAcADAACAAcAFwAUABIACgACAAUABQAAAPT/9v8FAAoABwAHAAUAAgACAP7/+/8AAAcACgACAAAAAAAHAAoA/v/7/woAEgACAAAABwAPAAoAAAACAAcAAAD+/w8AGQASAAoADwAhABkAAgAKABcAEgAMABIAHAAcABQAEgAXABQADAAMAA8AGQAXAAIAAAAFAAIAAAAAAAcADwAKAAwACgD+/wIABwAAAAAACgAKAAwAHAAUAAAAAgAMAAcAAAAFAAoACgACAAAAAAD+/+7/9v8CAP7/7v/p//v/AgAAAAIAAAAAAAIAAAAAAP7/+f8CAAwAFAAMAPn/+/8FAAwAGQAKAPH/BQAXAA8ABwD+/wwAIQAKAPH/7P/0/wAABwAHAAcAAAD5/wUABQD0/+7/DwAmAAoA+f8KABIADwASAAIA/v/+//T/AgAMAAAAAAAPAAoA/v/+/w8ADwAHAAUA9v/u/wAABwD+//T/5//p//T/8f/a/9X/9v8PABQADAAKAAIA+/8AABIABwD7/wAAAAD7//v/AAAMAPv/1//a/+T/6f8KACsAJgAKAPT/9P/5//H/5P/x/wwADAASACEAFwAPABQABwD+//v/8f/+/wUAAgAAAPn/9v/i/9z//v/+//7/+//u//b/6f/n//b/9P/0/+7/+/8UAAcA+/8CAAUAAAAKADsAJADk//n/DAAPAAUA+//+//T/8f/x/wAADwACAPn/+/8CAAIA/v/s/+f//v/5//T/AgAAAAcABQDn/+T/8f/0//T//v/+/+7/9P8CAPv/9P/n/+7/GQAMAOT/9P8HAAUAAAAFAPv/4v/S/9r/+/8FAAIAAAD0/+f/3//f//7/DADs/+n/9v/c/9//AAD5/9//z//P/+T/9v/7//7/+//u/9z/5//0//v/DwAhABkABQD+//b/7P/k/+f/8f/x/+7/7v/x//v/+f/2//n/+f8AAAUAAgAAAAAACgAhACEAAgD5/wcAFwAmACkAGQAAAPT/+/8HABcAIQAXAA8A+//n//T/BwAFAAAA+f/7//7/8f/7//b/3//x/wAA7P/X/9r/8f8CAOn/1f/p/+z/3//p//H/7v/0//H/6f/p//T/+f/0/+n/1//P/+T/8f/u//H/6f/c/9//9v8KAAoA+f/c/9r/9v8CAP7/CgAKAOf/3P8FABwACgAAABIAFAAAAPn/7v/i/+f/+f8KAAoA9v/a/9///v8HAPv/9P/2//b/AAAeADYAIQD7/+n/5//0/w8AJAASAPb/8f/+/woAGQArACEABQD5//b/8f/n/+n/+/8CAPT/0v/P/+n//v8HAAcA7P/F/73/3//7//T/4v/a/9X/0v/n//7/AADu/8//yv/i//v/AAAAAPv/8f/k/9f/1//x/w8AHAAMAPn/7v/2/xIAKQAkAAwAAgAAAAAACgAeACEAFAAHAPT/6f8FADgAQAAcAAAA/v/+/w8AKQAhAP7/7P/5/wUABwAAAAAAAAD0/9//2v/f/+n/5//u//7/8f/p/+f/3P/i/+7/AAD2/9f/u//A/+7/BQASACEADwDn/9///v8mADYAFAD7//v//v8UACYAGQAKAPn/7v8cAEUALgAhACEABwAAAAwAFwAhABkAAgAAAPn/5//s/wAABQD7//v/EgAZABQAHAAXABIAFAAAAOT/7P8AAAUA7P/i/+z/7P/7//n/AgApABcACgD5/+T/9P8HABcA9v/s//b/1//a//H/6f/c/+T/8f/u//b/BQAFAPb/+//2/9r/2v/n//7/DAAAAPn/7v/5/xkAFAAMAA8AAgAAAP7/CgAXAAAA7P/k/+7/BwASAA8A8f/n//b/GQAuABkADwD0//b/DwAPACYAJAD+/+T/9P8UABwA+f+2/6v/1/8HAC4AJgAAAOf/+/8XABwAFwAAAOz/6f8SACsAEgAFAPv/AAAXADEAMwAKAOn/7P/+/xQAFADp/7j/wP/s/w8ADwDu/9r/9P8XAC4ACgDc/9r/6f/x/+n/9v/f/9L/7P/2/wUA4v/c/wIAAAD0//n/FwAHAOn/7P8CAAIA9P8AAPn/FwArABQAHAAFAAAA+//5/wUA1//i/wIABwAZAAUA+f8ZACEAEgAKAAcAGQAhACEAGQDu//T/AAD0/wcADAArAEUAKwAUAAAADwAPAPH/9v8CADEASAAUAAIABwAUABQA+f8CAAwA+f/7/w8AIQAPAPb/3//V/9r/5P8SADgAMQD0/8r/7v8CAAIA3//P/+f/5//s/+n/AgAFAPH/8f/s//v/+//+/wIA/v/0/+T/+f8AAO7/5//u/wAA6f/p/+z/2v/s/9z/3//n/9//4v/K/+7/AADk/8//vf/S/8//zf/i//7/EgACAPT/7P/5//b/7P/+/wAA/v/5/wcAHAAcABkACgD0//T/FwA9AEUAMwAmAA8AAAASAC4AIQDu/+T/AAAxAEAAHgAMAPb/BwAeABwAHgDx//7/MwAuABcA3P/X/83/wP/2/wwAFwAFAOz/9v8FAAAA1f+7/73/4v/+//v/5/+2/9L/7P/a/8//sf/K/9X/1f/s/+T/5P/A/7b/vf+2/9//4v/s//H/5P8FAAIA/v/i/9r/+f/n/woAHgAKABcABQAUACsAKQAUAPT/DAAHAAUAHAAeADgABwDu/xcAIQArAAIABQAUABQASgApAAUA+//2/yYACgAFAAwADwAhAPv/DwAPAAAA9v/X//H/6f8MABwA2v/s/wAACgD5/9L/5//k/+T/8f/f/9r/z/+u/6b/u//S/8X/nv/A/+L/1//0//7/6f+4/3r/0v8hAAwAAACx/6v/z//N/wcAz/+4/+7/7v8ZAPv/+f8hABcASAAkABQAQwAxADgAKQA4AEgAGQD7/wUAOwArABcAAADx/xkAAAAAAPv/+f8PANL/7v/P/7H/AgDk/wcA3/+k/9X/vf/s/8P/zf8AALj/2v+9/9z/BwDn//n/wP/x/xcAJABIAP7/AADX//T/GQAFAGIAOwBIABwA3/82AB4AbgAxAPH/UgAuAH4AMwD+/1wAQwB5ABcAAgAxAAUAVwAXAP7/BQDs/xQA1f/P/83/5/8AAOL/6f+4/+L/1f/X/+f/jP/p/7j/pv+x/3P/AgDc/+f/yP+K/yYA7v/c/8P/3P8uAO7/BQDs//T/z//S/wwA5/8cAO7/GQD+/8r/OwAAAC4A1f+S/9f/0v9DANz/1f/V/5n/4v/I//b/qf+x/8//yv8eAOL/AACr/7v/CgDs/yQAyv8KABwA9P8XANX/KQAPAAAAIQAhAGQAKQAkABkAHABIADEAJgD0/xwAZACQAGkABwASAAoAQwAcAAoAUgAxAGwAQAA2ADsA7v8mAAUAKQBAAAAAKQD+/zMAQwDk/+7/z//k/wIAMQBaABkAs/+e/wAANgA2ANz/xf/c//7/QwD2/9X/yP+4/+7/+//7/9//yP/s//n/6f/f/8j/xf/P/8X/2v/S/7b/nP+U/8D/tv/I/6T/a/+p/6n/zf/A/5L/pv+2/9r/q/+X/7b/3P8FAOn/wP+r/+L/DAASAPT/0v/+/w8AIQASAAwAGQAPABwADAAhADsAaQB0AD0ASgBXAGIAZABSAFoAUgB7AHkAOAA7AEoAfgBkAD0ATwBFAIMAiAB+AGkAQAB7AIgAfgB5AHEAZwBpAGQARQBVAHEAsgCaAH4AxACVAIYAewB2AKcAbAB7AHkAOABNAEMAQwAXAMX/9v8XAAIA9P+7/8j/AADi/6b/kv+x/7j/a/86/1v/Zv99/17/BP8T/wn/Kv8g/+X+Bv+x/q7+2v7n/gH/n/6S/qz+nP6u/rn+yP7N/rH+tP7f/s3+wf62/sb+BP/q/hj/Vv9E/1b/a//K//n/0v/c/9X/7v8pADEASABfAGkAogCyANsAKwFCAYMBewEbAS0BXgGaAcsBogG2AXMBYQHQAb4BzQG+Ad8B+QGuAfIBAQLBAbQB3wHfAb4BtgGIAYUBhQHIAd0BYQFUATMBMwF9Aa4BgAHvAM4A5QAbAVIBNQHjAIgAiwC8AK8AeQBKABwA/v/i/+f/z/9j/0z/Tv8o//T+kv5C/vX90f31/db9UP3R/H78b/yg/EP8uvtB+xX7dftL+zz7+fpj+j/6E/pW+kn6GPpE+k/6Xvpw+sD6+/os+yX7Rvu6+yf86/wX/Vr9zv0h/uf+Mv/D/zMAtwCXAdMBhwIsA78DWAS6BH4FFgbVBn0HDQiBCAUJqgnrCTYKKQpACoMKzgoMC58KVAoXCgoK/wmiCVUJ3giHCPkHXgfYBhEGNgU+BGUDjwLiATABXwCr//n+a/7E/SH9YvzA+3f7EPvA+iX6e/k1+f/4BPne+GL42/eB93/3b/dn91P3KfdG92r3hveG91r3Wvdq92f3gffC97/3jvdT9x33S/dn91D3O/dD96D32fcK+CH40fey98n3JPhS+Fr43vj0+fP7yP5rAgwGEgiKBzgG9wbtCXQNbw7XDMsKaQqwDCkPpBCHEMYPKBCCEeUTAxZ6FqIUchHrDqgNGg0mC9cHlgQVA6gD0gOFAuT/TP6a/mv/mf8J/i78IvuH+1X89vvI+g/5EviR98T3ZPkQ++T7f/s/+4/7H/wK/bz9R/6k/p7/BwEOAmMCcwLpAg0DygLBAQwBSgEmAeAAHgAT/1n+Nf54/h7+Yv3E/Jv8avzH+9r6pPls+EP3Gva+9GTzifLx8UnxePDY703vS+7p7FbswuyE7W/ur+4973jw5fMI+3YBHwNe/sH5Kf0tBusN8QwjBlYChgWMDbISSxP2EQERVRItFv4bniBqIfAcbRbOE/QVoBjgFFMMPwYGB6MMyg1qCH0BR/9TA0wH5QaVAdL7E/pq+zv9WvxA+Afz4u9P8OHyYfXv9Zf04/IF8yL2xvk6+rL39PVL98j6G/5H//f9ZfxK/bIAEgS6BKkCKwELA8YGiQhJBysFfgTYBfsH0QimB0IGfQaeBx8IngcRBm0DtwBe/yj/zf6Y/VH7dviR9pv2Pvcy9mLz8fBR8O/wXvFj8Bzu9uvl6gfrxurX6EXmluSq5VLpMO+J9//9Dv4k+AL07/k/Bq8OCQzDAnH+hAPhDacTfREIDREL8w30FFcdKyO7I8seOxhjFhsajR1HGVoPvQgPCuQQTRMFDYkElQFzBiUMyAudBZL+A/w6/oUBEQFT+7nzfu5d7nnyuvZq93H0A/Eo8J7ymfbo+In3B/R38gz12vk2/Z38Cfph+en7CgAoAqcBkADjALgDOAaIBsEFmAW5BpQH/ge/CFgJJwnMCMcIzwi1CCoHNgRZAe7/yQBpAbb/XfyA+cv4zvgC+A72kPP48WPx5PCi74Htc+vb6rnqrenf5+/lceWv5aTmsuic65bx3vhf/Xf7E/bH9s3+owh7Cy0GMAH0AQUJew9WEX0QHA+kD5MSvxjnH1skeyMuHagXABhiHBQdwBZxDq8KSw4kE+YRlQosBLUEeQk3DPsIXgLO/XH9w//LADD+4/d/8aXuTPBk9FP2/PRt8ufwA/EC86H1MvaD9KXyr/Ma91b6MvuX+bf4PPrL/aoAvgBW/y3/+QHOBfQGSgUXBAIFXgcNCVUJDwnHCMwJEQvWCloJegcZBuME8AN3A48CvACi/j39qvwc/Jz6QPgn9rb04PNL8yny5e+z7MvqP+uS62nqRuhF5qzlE+ZB5+fnJOhY6QDtZvRl+yj+5/qU9hb52gHvCo8McgfnAokEIgyBEm4UJhNZEQASURYzHVIjwiVxIuQb4xe5GQweUh1RFj4OjwvwDmUSVBB5CYQErQThB2IJ3QbiAe38XfvW/A7+CPwi9urvcu22763zG/Uk88Xwy++48L3yZvSK9Uf1afR79Fj2qfmH+yf7n/rA+zP+MQD/ABEBsQHpA40GRwcbBpoF+QbUCK0JqAmBCZMJ4wkRCtsJUAlbCOUGRQXzA/kCFgIMAYL/fv2r+336Zvmo92P1gfOe8jzyA/Ff7n3rHupz6svq0enP5wHmIeUr5arlWeYQ55Hnd+iS6o3vYvcM/gn/j/pS+PX9hwidD94NCwhVBZgJcBE5FhoX9BWNFWIXghtfIW8msSeII9scrxk2HFYfvxykFMUM7Qq/DooRWA5MB3MCRAM1B4kIxAR9/vn5r/nz+2L8cfjH8absA+y67jfxcPEW8ODu9e7i8C70q/Zq9ij0z/Ki9OX4oPxN/Vv7CfoN/GwAxwMxBAADEAOnBUMJHgtzChIJsAhNCWEKPQsMCyMK6wm0ClwLDgu6CX0HEQXKA6YDFQNPAeL+fPyc+r75bvn99/z0W/KH8XXxofDR7pns9+oj6rfpQ+gR5tTkfuT/5I3lBOYT5vXlDudb6CPqte0M9Fv7of8CACP+l/5VBKkM1RCiDmYLVwtzDx4VTxkaG4wa5RnNGgwegyPaKAMqGCVFHiwbFB1HH5Yc5RT+DNYKJA0xDjALxAVmAhgCJwNBA00Auvsz+CT3i/ci96/0HvB76yvq2uxU8FPxrO9/7crsee7p8dr0j/Vk9FXzgPQc+BX8Dv6G/bX8FP5KAXQEBAa5Bf0EewUYB04IjAirCOsI5ggFCc4JwQpKC4ULZguiCqAJsghOB2cFoANEAvUAQv9a/ZH7xvkX+Nf2ofVS9ADzgvFM8FrvLu6H7O3qZOro6ZPopOY25f/kOOXW5VHme+bi5rDnVen66ozsGe+b80/6/ACgBCkE4gJNBWYLlBFCFP0SkhDXEM4U8hnEHfce0x02HN4c8SB3Jj4qGyk4Iwwd5xp8HAod+hizETgLjAgNCVgJGAfuAlT/1v3E/Xv9ofud+Mj1ZvRF9HHzAfFD7T3qAur861/uiO8e70PuQ+6a70HyevVt9473Kfcu+AH7Rf7oAM0BRQFhASwD5QX5B/MICgmrCOEI5gn8CkILwwo7ChcKrwquCzcM1QvBCk0JsAcyBs4EOQM6ARb/K/1l+/L5xPhd94D1hvNI8rvxIPEY8K/uTu0L7ODq2+kA6S/oYOep5u3lvOVM5i/n++dv6A3pt+nB6qHsie5z8BnzxPeD/usEVggNCBYHiwnLDxgWmhg8FzAVgBWqGMIcoR9qIJ4fZh5HHvsg8yXzKXgppyOYHAIZlxmkGoYXdRAxCUoFAgVPBdwDXABl/ND56Pia+KD30PX186Dyf/HT76XtEOyh63XrOOsl7Lfu/vBB8Y/wMvG08+v2MPnQ+f/5d/tH/h4BOQOtBLcFpAaXBy8IzwiICnAMegyqCnQJHApMC8gLXgt5CnQJbAm8CgELSgqJCd0GTgMHAWv/8P2j/F37TPnC9rj1VvYG9sTyt+3H6M7kwOFT3tTZSNUy093TNtWa1zjbi9/949rn7+uX7+7y7/V39sj1m/bD+uoAVQW6CP0NXRh9KJ02rzojNrwxCzQXOpA6RTDkH1USigs8CBoEgv9s/cj+VAILBzkNghXbHTEhsBxDE/IKwAaCA3n8cvFW52rjiOVf6djreuzu7JXuvO/R7tLsI+vv6uTrWexr7BbvWPezA+UODReSHxUqeDLPM38u6CYGIOcZGhPdCvsCkv59/p8AKgMRBjsJfQu3Ck8G4gGTAIr/u/oz8yLt3es970DzTfTZ8q7xsPFz8LnrF+WQ32LbD9fb0o7RL9Vx3HHke+te8br25vsuABMC6ADt/Ub7bvl/99D1zfVQ93H4yfeN9bfyY/Dl7i/tSuqj57vn2Orr7pPyevZT+6IAVAaqDisdxTJ7Srha9VuuTxtA0zX8LRkeuQHL4KDH8bv5urG/dsg41nLoFfyqDnogVDKHQftHPEJ0NBkn5R6+GVcTpwptAm79rfsd+5z5A/by72bnHd1M00DNQs0r0yXdauly9h8DoRDMIdM1LUZ6TJBICj+oM6UmUxctB9P48ezn4tbbMdqO3tLmxu+w9gv77P5sBK8KmA8HE7EV+xahFrsV/BSYE84PCAiT/BHwCuXo2yDUzs3SyULJrcxh0wnc0OXb71r4p/0ZACsBAgGS/sv5QPRh7xDs/Opb7ArvcvEZ88bzwvKv70zr6uXb37faW9if2H/agt635Y3vFvqCA90K3RBvF5YgAS35PHJQuGNibt9o8lPHOSUkqxGK+nvcPb6RqXCjRapMumfRGu5wDF8mzzgJRsBQSFd1VOVF6y/8GcwI5vwJ9QHwwuyD6VLlBOE03l7d5dzm2kLYitcU3O7ogfxMEK4euSg/M/M+LUbbRHU8HS8PHYwHi/PQ5d7f+t8f47bnhu7/+MQFpBABFh0WtBPlD2EKWgSqAOgA7gPvBn8HBwbzBK0ELwI/+1HxW+fU3nDYPtWj1f7Ygt7/5OrqkO9V8xX2lvZx9OLwSe2A6nfpr+qj7TTxvvS390X5zvg297P1APMa7XnlHN9l2fzSpM6Mz6PU7dtS5bPwoPy2BxARFBj9HKYgTiWALUg60EltVjNYDUx6OJYl2BNb/6joutQPx++/7b62xejWq/FkD8snoTcjQc9GvUdYQpw3OSrMG2UMNv1Y8errfexP767wce9e7HLoZeTT4EHfI+EW5ljtYvh1CDoZXCMIJhQorC3nMqky9Cy7I0MX3wcr+APsXuZe593r0+9v8g33Vv9qCHEPnRTqGEIaqBZrEMgL9QmWCVoJ+gUxALr7oPcF8zvuO+pG6G7mguKJ3pTdM+C35Dno2Opt7VTv2+9L7sDsHe0h77bwR+9o7EfreOzr7dPuBvAn8UHxwe8N7sftLu7m7JHooeLD3KnY/Nf8263jYO23+H8D+gqtDqUSvBj5HjwlhC6PPK5KmlOSVEpOjEFlLi8WCPwM5TfTdcbYvvK+2MgX223ygwqtINcyVz/JQ9g/CTd+LDkhGxXBCZgAQvqw9kf1/PSQ9N7zXvFJ7F/luN6D29DcluPB7w4BaxW/JkoyLjr8QK1CJDqzKZEWLAP67ofdDtSw1OfdK+tz+dIGdBPdHQwiASAlG9UVqA5VBVz9c/mp+Uj8Jf/oANoBDgLF/yD6k/Pg7o/ro+jq5n/ni+oU7+7yB/Qp8yTy/O+Y6jTjR92w2h/bZt0Q4ovpifIJ+nT9kv7T/gz9V/g88qvtTeqC5rHhVNzQ1z7VW9S11DDYmuCU7Ar4+QEHC+4SCRk8G3EdtSHZJoYw1TuwRtRQVlS5Tos/CCoFEj74iOAQz8LFMsSvyHTRlt9d8woJuR3+LcA43D0TPL0zOyaBGIMOMQgNBD8BbAA8/9/73Pa28E/rkub04Ujf/9+s5Y/wHv4YDJkaqyopOi5D50H2N8soaxVF/tLnGNlY1Szaf+Mj77X8PwvHF+oejCCMH6AcXBUMCrv/xvnx9if2efhK/WQBrgLdAB/8yvVU8HjstOlN6XLs+fAM9DL24Pj0+jX6N/bL78jnUN/01xjT1tGO1Zvee+pe9Xb9tgLcA8P/H/g38LrpHOVj47jjveMO4tbfc93S2cTWa9cb3djlw+9o+usEIg1dEvQVgBqiIuYuoD6GTWNZwmCtXyZTcDxiImII5e4q2Y/KG8T1w0rIRdLj4FLzRwetGDEmTi7/MRcwkiieH2QYixRDEgsRFRFRELgMSAVO+7PwEOe135PaE9i12Zrg4ezj/SISzyV2NdVAekauQdUxVx2dCQD35eZt3l3eoOMF7cH42QN/DMwToBh/F3wThxAaDcgGsgCm/1wA5//TAEYDjAPF/y/77/X77W3nquWp5izoxeyh9cn8C/+U/6H/Evxu9G3sIeVH3WzWu9Nj1LTWVt0+6EHyQfcj+Xr6Bfdl7c/jut9V4FzhNORn6W/tLu766gLlRN2Z2Jvast905b/u1vzhCMkOZhUmIvUwBT9HTzthlG3HbgBlRlAOMxkUtPgJ4v3QR8rwzJjRItUM2/fl6vCF+SoDDw8EGhMg/SFGISUftB3GHTIfOyGcIxAkIR4yEV4BwvG24oTV584K0eLY3OOC8XcD8BjkLdc930XfRrk/zS45Fo78KelE3lfcQeIH7ib92wrrEiETTQ+zC3IHbQJH//cA5gSKBsAGEAcoB6wFhQJX/lD4gvH/6p7jR9yb2Qbe/OVs7qL4FwQ4C4AKeQRB/Evykeet3uLYCtZ51szZEN6u4n7po/FB98H4iPgC+EX07uwJ5g3jnuMC5X3mkecW5xfkDd7z1X3Pns9d1gfhye4l/zoQOh5CKCMxeztvSCRWt2EQaVhqTGP5UE01PBe1+6XkWdOcymPKY84O1Cfa899+5fTrkPS5/UcHKhIxHE8imSSYJvwolClbKcUpJSljJM0aFw65/lXumOC012XUXNeI4RDxCQK/Es4iXDGYOoM6oTIMJ8YY8QZy9untPOyQ7nX1AgAsCe4N7Q+6DaUFHP1f+Vr4KfdC+WIA8QYnCXwJ7QnlBkL/dPek8EbpheIV36HeWN914+zrsfQy+6cAKQWqBP/9NfWW7PPjBNw41/rWF9qv38bmPO0t8Tby8fDe7c7pJeeR51rpgOqn6mnqzedU4QjZrdERzcHMmtIg3TjqoPjsBjsT1BygJYwvNTzsS1RdAW3fdhN3HmwFVyE6yxnK+uLhJtHWyFDHW8rcz3zVUNpd3hrji+kA8uT7VwaUELYZXSFnJ1ws5TANNc037DdDNMcrBx4gDHv4SuaF2GLRbNLB25Lq8/tFD/Ah2C0+MBstnSbXGsYLbABb+7H51PvSAqQKvw7AEC0RfQuDAKD3AvNv7orrbvCz+lsCdQd/DW0Rqg6XB4EAEvgc7mPmu+IC4ePgIeXk66HwufNA+Kj7G/pY9jPzmu/J6sPmB+UC5CnkeOYs6BfpMut47LPrvOnL5pbkWuTo5KLlc+bi5tvlueHW2knT0M3kyrXKgdCa3OTr0PrcCA4W1CACK2k2FEQWVNFlpnbNf8R9IHGjWhE7Axdq9kneMM6MxbnE78jQzo/T6tY/2S7bft+p5tXv9vrIB+oUdSBGKjIzmDr3P7NChUFRPIUy/CN/EY39Lexs377Y+dco3UnoYPbZBF4RzRraH9AfLxyPFT4OtQgRBkcGgQjfDNIRpxSqE/oO/gco/3r1Ie636jjrmu/49lb/4AVfCjwMkAnZA3H9k/fA8a7siOpI6qTq0OvW7dPv2vBo8WPxDvDm7SLsyeqB6bXo5uig6dPpUuqf68js8+zq60Lqwucw5YTjI+Ib4vPj1eZ/6EfnPuTD3TLUXskgwNy7k75vyxff2vX2DC4iazLEOr4/ikWQTl5aR2ildKd6FXc3aFxOgSt/CKTq5tQzyN3DLsdQzEPQCdLr0fDR4tMi2jbl+vMhBRMWnyMTLVMzazfmOVk7+TwlPdQ59DEsJc4UsAJG8mflpt3B3HPhAup49DEA4AqZEcEU1RSeEq8O2ArwCCEJqQv0D1IUThcpGCoWexB4B9P9n/WL7w7sSeyS8MX2nfwzAS4EWgScAUD9Vfil8z/w8O7y7nbvffCu8QjyUfEe8IHuUewz6rDoq+cY5zfnu+eu54LnL+ha6ZXqOuyV7uDvV+6N6oDmnuOu4cvgruLd5kPp8+ey4xbd5dK/x4fAvr7WwxzR6uUV/KIPpiAVLpg1UzlFQBRNM11HbPB46n5AedBmqkkBKMAGwOtv2vrR3tC40zDX6teR1JbPAsxIzL/Rhdzi65j9IQ7NGpwjNyqML8oz2jdCPEg/UD59OK4uFCJ4FGgI4v/m+wD92gH1BS4Fvf8x977rb9+K1xHY+uAt8MoCGxV4I50r0yy5J8MeHRaUEFsN9wopCmEK9geXAcH5Q/Iw69jlteMN5AfmEuk07FruY/BA82P23vhw+qb7YPun+OXzFO8b6wDoP+Zp5T3lT+UM5U7j4OC83xzg8uCU4qflJ+k07DXv/vFO8tjvcuwu6Zvjwdtv1TvRqsxNx27EV8THxqvPr+Ab9RoJ9hv/LP43Ez2rQtJL4liNZsl0V3//f5V0zlz+PO4XFfey3xHSJc5D0JPWsNrC2YTUjc3qyTfKls/d2xjtY/+vDwcdaSfKLoE0eTlLPlZCDETNQVA6wy10HWUNrADY+WX84wWkEKAYeBqQE8gBMOvg12/LIMqE1SjruAOvGekpOS9wKNkbgBCUB0cCFQQlDLcTYBbBFIsOBgPQ9dXrkOX+4Y/hzOPB5ZjlceXD5pnofevV79r0EviG90f0FO9n6a/kQeI84jvkkeed6V3p/Oa14+Dgut/64H7kg+qj8VD3dvm0+En1ou5K5jfeCdhc0tjNMcvAyZ/J4sl4ztzYHOl8+64LRBqoJSMtITCeNIw9f0vEXGZswncKeFFtYld3OOQWg/nI5gbdCtuM3g/l2eiV5R/et9W7z5rN5tCE2grpovmgCEIU8Bw3JKMqEjAFNZE5eDxhOxQ1Uis7ITIaNhfcFqQZzR5PIwIizxfsBjPz4+DB0d3JFM1t2S3rAv0WDIIVxxfnFfkQVAvwCCAM1hJDGPYb8h3MG8kTmQe6+5HxSOlq4yngNuCh4RjjNOS35GvmEul767XsA+0v7bXssesK6izpKerf61PsgOox6Mbl1eJB39rcLN4E4iXnZeyP8Qb2PvfF9Zbyre7t6qHnNeYC5QPjleCI3E3Xm9FszWLLPssL0J3ag+pk/YAQICQHNipGsVTrX/ZoLG4Ib/NpN17dTo88siq+GrgNmASY/aD34O995u3b89AzyInCasJpyCvTLeGd7wz9dwijEcEYBB7/Is0o5i4FNIA3tThZN8cz0i0hJ/QjESj/MYs5mzkWMeceEAMe4Z/EVbSMsiPAmtfP8XgGSxNrFbkLvP0u9N30Gf22CwkfSDAvOeM0xyYsE67+Nu7k4q3eIt+54ebjcOIN3xLb7NhL2cbbHuAR5YvqH+277NrriOst7BPsMuwy7Ivq6ed05GngPt6J3yTkseqe8cn4ifwA/Mz3ivFE6z/mP+cd7CzzQPlW+8X2F+mC2f7JF76EuHS+rdBK5tT8XA8ZHpoo3C+JOIxCXE8wXX5mYmmeY2VWMkaGNA0m3BpzFRQT1w0cBcL2P+eq1sbIXcK0wyHNRNl95oLxU/ei+dD5o/vLADILnBqBKhU5G0U7TvBSPlI6TzxLR0ZwPXwvgx5eC034nOaZ2WHT99KQ1/Tc4+B94h/jeeT15QnrvvX6BLYU4SC+KMcq0SYoHi4T+AikAZP95PoU+DD0Ju8U6XDi8tyR2ZvZldw94OTjR+en6pzscOw07Fnskezi6/Lpxecr5RXj0OFX4VniAOT15XXnk+gB6+juBPRx+Tj+tgG0AQn+Bfj58Mbqi+XS4vbid+Sf5VjkF98z1nbNscg0y2rVV+Y8+20RTSZeN6JEtE2cVDVZJFyOXMpZdVR9S/xASzUXK8Yi0htWFVMNBQRa96vo/dmAzmHIwcc1zTjWM+EL7ED0M/mJ+xT+nAK3CXwT9B5+K8M3+0FpSTVOYFAJT4tIOjxdKwoY/QR49O7oYOPK4kDlIuef5lbj9t4S29zY5dsP5ZPzhwMyEQ4bEx/BHb0X2w/RCLMDrgEHAen/7fxS+OjyuOz55qHig+AZ4F/gKOHN4prlN+gX6jLsbO4R7+TsLOhY4yDhCeEV4w7n+evv8B/zv/K68rb0Y/b79gf51fol+1j70vuc+tL27PGg7WLpteQ/4vnhV+EH4OnepNwx24Pc6OCh5jDr9PDz9pD9twS6DkUeTzF3R3JaRWdVa19m/lncRrc0VyeGIucjrCc5K64ptyLWE3YA+eyx3bLVKNOo1XLavuBe5kLqXe2f8Lj1Rvt2AecHOw/kFk0dMyNTKdAxQjsVQ0xG9kKgOfsq2hnHCNT7T/X98+D0MvWV9KHxyOzg5XLf/t124Tzo/O/M9+j9KgJsBAME7gJHAc//t/0y++X5DPip9aDzMfJR8WPw9+9C8IbueeqK523n3ukD7Qrvn/AA8mHw2uxn6nXn/uZH597j3uRV6ULqielH68vwLfUX9zb45/ku/Ev8VPp4+Zn73/vK+mD87fyB/F37o/el8z/xne957prvkvCX7+7tjevP6E/mROdR7Mbzmv2OCF0T/Rz1JjMx+DnNQUFH0UgfR+RCbjxFNrkxRC7QLLorpikcJhYfOxQgBxD7Z/Jo7OboDeiT6FXpDOrQ6q7r8+yF7zX0GvvpAlUJOQ7sEWQUzxbWGJwaWh1eH/werRxnGDgTOQ7PCOsD1gCV/q38n/r29rLzZfIi8iTyNvLJ8nny7/DL7x7vMO+K8L7wwe998FPyaPWE9831l/RC9SD1tvTu9/f9ff9v/Mb5Pvg89pby8fDo8kr0bvV99RLyy+9p78zu3e+o8sv0o/Kv7g3u8O4s8g72L/fL+Q76U/aY+Ij9kP3G/a8AfgAU/fL+cwJz/kT6Vvq++Uj4UPiz+hP6TPXo8inyg++562fpsuju51/pke3B8/v7ggNSCuwQhxaYHNoj0SqTMLk11zeaNtQ0MDFXLYErfymAJ44m8iPTHT4XVBDkB50ANPtQ94f1e/TM8n/xofAK7zvuDPA48+T2ZfwVA5MI2gwZEH0R0hFMEfwP+g/2EC8R7xCkD/4MXApJBz4DlP/O/Kb6OPg39YbzpfOX9M32JPgD9o7z3vPF9pH3dvSn9OH25fRn8gLzT/WT9xL46vjK+hD2JvOx+pb8rPiT+Nn75/69+xr71/us+DP4J/YO9gz4SvSc8aH18/fV9BLzv/J68U3zSfX58EjyAvk7/Av/rfxE+hz8ZP2D/Qb6uvYu+Yb91vxN+P/4/P4CAKP7Z/hs+Or5s/r9+9/7oPhO9ij00vCO7vTrTeqP6zvudvRw+67+7AKRCHIMYRCnFPQZqyAKJrspqCtvK2gqMijAJOghhCAGIIgeIBsNF+4Sbw6BCQcFBAKu/7r8YfmC9nv0iPP182P1CPei+CX6aPt3/AL9lf1NALEFywueEcIXGR0mHuAYPQ/JBez/Pvxz+mT95wGzAy8DPQBb+yL3CfQT8bLuXvHo+GH6B/j/+Db4NPdV92D2Rvaw9w/4hfXi9YP40/gt+h/8Gf1Y/JT7+Ptc+LjxmvRC/rP/3f7T/Ub8Cvzg+In23Pbk+un7+/aG84L2bP3v+tX0MPTn9Eb29PQE9I73//i69vX37/ri+vH6zPyD/Tb8cvtf/Wv/kP2r+i75Efq7+ir60PnE+O/57PpT+yz71viO90f0TPGM8rXyk/Jw9af4APw4AXAGzAnDCzkOjxGxFLwYpx1nIXAjQiTqIzYisx97Hcobnxq2GZMXfhPTDjgLtQjOBe8BXP4D/Ef6dPgk9wr3aveE90r4l/pS/aH/qwJRB5kMMBAOEKsMXQhaBGsBSgG7ArgDQwVzBukDGP/M/Nb8pf1j/3//uvtm+c36jPqk+dX5Vfxq/MH4FPn09aL0MfiF9Njzz/dt9yD2yvbA+uX+g/6P+yn4JvjK+pz6VfxnAJf+Ffwu/WD7+PwEAbb/w/5h/7j7z/bi+bb+Kv9+/L/4E/XW84n3PfSn8+T7wQAtAVz4uvZY/AD3WfQp+F383P/J/Zn7ef33/lf9BfyL/Cf8e/6m/7X7nPrQ/jD+Mfxx/u73/vY6/tz7yvqG/ar8Ofb+8Rz0//RT9xL8Yf+RA50JSAomCxIOdQw7D5UT7xU1GS8cIx4xHHoaKxmUFc4TMxMXEo8QMw6kC2UJMQgbB14GkwQMADP9D/1g+0L6wPos+/D9Ov+DAaQGLgpzC8kKEQviBlECkwBM/20CRAMyAsQEzwgWB+f+FPn3+Mz7B/1i/Bf90/0i+/T6VP5x/S36O/gP+Cv4c/UC86j39/6F/wL+VPrj91r8QPkv8unxsfXo/O4CbABx+ff5bf9/AosAevob+oX+4v/+/0oAiwCh+4D0/vXZ9xX2KvYx9yj6mv0C/qf9a/pH9B338v2L/P/4Nvyg/Ff5afjv9cv5S/wy+m75iPmZ+236yvpH+iX6Uv15/CD6yPlt+6f+PQEZ/lD87P5o+2X3T/nz++38Gvvn9XTyMPVu+VL91wKhBu4HvAk6C58KjQsGEEcUahfXGoscRhtNGeMXzRYDFrkUWxLQD6MNEQs5CHsGQgYMBm8EXAHy/cz7zfqU+vn6U/y7/oz/TQC/A7AIAA6eEUwQUQv5BvUAlvxx/fX85/6UA28EWAOh/yL7pPq6/An+sf7+/i3/gv/R/Pb7KP5XANX/KvsW+jf2m/JK+Kj7tPmz+h/8sPuk+gD31fqK/x/8//kT+j78Wf7D/goApQAzASgBUP3k+z3+SP3v+nEARgPI+T73TPVz8BD2MPlp+Qv7IPt2+ET2Kf1eARL8CviO+Dz6o/x0/XP6evom+Vz41PxC+c/2Y/uT/JD90fwL+qb7d/tF+Gn5ofq8/AT+yPp3+1n6UvMc9Jj3FvTZ8RXyXvCl7tfw3/Vr/mQF1gS+BqMNchJOEWgRMRfCG1sgcyNiIb8d4xyDHcobvhpmGeUUew8gC0AJAgmmCEQH6wNIAPz9lPv7+q38FP2G/WT+Hv4zABkFRAtvEooVFxNeDJMElQCU/zICEQUgBn0H8wT2/6j7W/pQ/Bj7SPii+G37hv1Q/XT8H/ya/UH86fZ395f5u/Vy8qb1xf8SACP1vfZ9+nL3KPlS+Or4kftj+qz9ZP2c+mT5Kvr8/mj6l/n1/WD8ufnG9CT4G/7ZBA4BNfBU9Sv5AvOC9XX2Gfgu+HX2pPC382H/+/UP6r70lP/K+rf3bPhn+NL6Av2SATj++/Uy9pf1JvQq+6AEs//79uX0NPEE9GH5BvoE9Qjx7fRQ8ljtku/s8CHz/fujA20HPQpHDG4PXRJWGvIjVyjPKdsnUybkJKkjVyNGIcMfBx1UGfIURQ9/DPoKQQdtAvf+wf1W+kf1uPaA+dL21/VO9xn4KPmK+Qf+zAg0EdMTmBMFEnEP6gqFB1oJ3wvOCY8GrAb+Bw8E3/u8+Kv6m/s2/FH7O/eF9V/5Yf8o/+D5m/wb/m32P/WK+dX5FfcK9yX7zfp19ajyE/V99QjyDPT9/I8BKf1O/70C3P9WArAD7fyu9Wf8AAAu8yD1h/8F+LLtjvIW+iH5ofVi8431f/fv9A/0v/es/eMAc/mZ8VP34vmP9mL3DPmB/bb+2/gP84PvC/GF9A/zmfGl8rjwp+/18n7zvO5g6C7kR+Jl46DjDuFF5ifx3fl2ANoH2A9WFoUfOimOMGg3jjqZOKM0eDJGM20z4DHCLgonqR7gGFsSlg3UCMkA1fpW9cbuf+3e7mzuM+/873zuoO047xfyGPaY/NcCiAWkBlQKUBJ6G4Ig7x4/HxAlqiYBIMUVlxCtDdIHRgOx/xL9+fm59CnuwugU6azrcuxY7YXwBvVn+GP63vzO/a38hf7OAK0E2gf8Aaz9Jf9s/bb50vbj82PxEPEA8mH0p/jB+Zz5evuJ+2754POy7lXume0Q7cTuX+9Q7azrNeqL5c3hjOI95vXpbe3T7/LvgvAL8pL0GPU68aDtoO5/8ZbxMvAU7ozsk+mB4yvgF+Dr39LdxdlA1oHW/NwB6xr7PwffEXAaOCM7MHs/aU5AWFpbl1i0UvVNNEuxScZE6DqcLmAghhOvCscDYPzJ8rDnut5v2mran9yo3/bileWj50frJ/Kt+0UFYwwTEbQUIRm5Ht8jdCd6KQIsqy45L38upi7CL08shyAREAsCVPpb9sj07fOU8evup+qL5S7k+ebv6qPtCfBC9aD8igKcBtkIGAjLBXoDVAI0A7kFtgd5BTYA1/pm9TLx8O5i7VzrOelY6Nzniucv6O/mDePM37/eed9x4BPihORI5RLkdeKk4rTlFOr27NTs9uvf7GHwX/TA9SD1hvLM7hXtLu5o8DLx9+8o7Afl8twj1w7Txs3iyAnKotZz6/n/tQ0vFq8h9zCcQf9OeFi1X2liX2FMXQhbuFkRVBRJnDg4JzMYQQz8ATH4we5N5L3ZDdFmzfTNcM/b0XLVatpF4QnrVvaVAUkMIxTjGC4dXiQwLXczizbDNrg34zq9OWcwNyR9Hsob3xUjFJgXmBPBADrssuOW4/7mMusA7Rvsu+x48OPyHfZu/cAClQEjAVMIJBIPGEIZmRUaDm0HvQNXAVkBvwPTAbf4T/Bv7VfrEuhF5u7j1t9Y3xXjouSr4+7jROIt3ILYGdya4bzkUefe6FHnD+WS5Yfn3OgH6zPufO4g7ETsKOwC6VnmtOWW5LThl+H84VPfVdp40zvMf8VgxuHPMOCi9HQE1Q9KGXgprkDvU3ZhCmaHZE1gH1tBWmhatlgyUAc/WivFGtgPNgQy9s/oTNx50Y/KxcmlzFvQ+9BB0LzS19nd5ij0lQAyDPwUZB18JXIuBzb9OQs8RDz0PCc96znDMj0oWh1NFC0R/xOOEkIGDPRF5hTgKd+R41zqzu7Z7sTtbu9h9eX+cQU9BrwF0QkLErQYUxw3Gz8VdA1ZBzYFOAUJBhUEJP1P9QbwsO3k64XqZ+mk5iTksuNK5SLnZudK5TvgxNsR3HTgb+Q25TnkguIO4RbiB+ai6q3tQ+547BPrf+1r8fTwrusy5tri6uCd307eAtyP2EnU4s6CyWXGL8Uxx5jR5uSq+EAECwzkGo8yYk2pYhZt+W1maPxhcF4BXz1hvFueS3g3TSYRGU8LS/s16gLbbdDYySHHpMmSzeDM9MnzyhPT2OAU7tz61Qf2ED8bUidTLzQ4Yj/oPoc82zk+OTg6vzUTLvMh/xRvE/wUExEGB4jzauOX3WHcKuPY66Du6+1C6oLrAfWs/mQG1wg8ByYLHxPYGfcd4xzhFloO7gdmB2cJdwkHBcr7LvP371nw9O9v7XHqz+dw5i3no+iW6b/o/+ST4FDfA+Nd6GzpV+bP4qDff97b4InkPui566Ptq+3C7MvrP+u56g/pTOZv5FXk8+Nc4c3cmdhC1/nX9Ndv1sjSAMz4xqfNqeFV9wMDfQZ+DlEk+EKYXDFpQmsZZ3he5lWAVF5aHl3EUhU9FyeVGAQPzQJB8WzfBtPEzP7KyczCzwvQ7czayljPX9uA61b6DAVDDkUYOiMtLd8zGzdcN2s3zzhnOr86LTjqMlwsoCU2HBoNF/2w8i/tjOi15Abj7OJQ47/jr+Vn6Zrvpfh0AIoGSw3OE0YXABeUFsAWUxbVFQoUURAeC4MFtv+7+UH2zvTu8urwr+/B7vbsWet76q/pSOqm7Ontoexm6zDrkOlZ5i7kiePu4rPirePM5FzlQuYG57Hmrud47JTx5vEX7sHpIObh49njKeTK4jPhduB33p3akNe/1ePRtcpwxbvK391E9ssFQAnADIYcKzb9TQldgmOsYmJczVUuU15UBlQoSz45piXjGBURLQYA90znt9q+0jzQbNId1Q/WYtWz1BjYTOKN8Hn8NgSXCysUQxy5I8cqIi/uLl8rhickJmcmYyRcHZMS0As9EJsb/SF4GloJ0/iO7unsUPKZ+kz/Pf2g92T0UPdF/RcA5f0C/QMDaA3iFagXUBMWDLkGlQZfCXgMPA3KCGkAv/hC9TP0BfJf7m7rj+sU7uXvBO9h693mLuSO5GXoX+7S8YjvXekc5KTijuMX5d/m6ee66IjrUu/S8F/va+zM6LflJuUT5+noHeh+5LzfIdzP2ovaH9rk2HvWSdNgzyjOSNUE5tX5GwbqCmITeSf+QaxU8lgBVBFP0U1nTW9M/kqPRio8sSwuHccR6wgv/63zMegO4ePfBOGs4G/eKNwm3Bngm+iL8xf90gMsCZUOrBSzGy0j8SgnKtkmPyODI0smqiZmI5IfjxunE5QHAP0A+E72//MB8cvv/vDJ8qXzHPT+9T/64v/EBdoLdxFfFDsTXBAKD2EPtg8UD0kNvApJB6QC1v2++Z72tPTW8xz0MPVJ9c7z6fFU8NDvrvAa8rLz0/Rc9HzyFvB87Q7rJ+k+6JHo3Oj7517m3uSJ5PrlRuhP6pHsHu/V8EfwNO1+6rrpheqP6wzrk+lT54vkwOGJ33zfoN/i3cXZY9Tg0ubZi+rz/B4GpgcQDaodLDTWRDtJvEQmQKRAMUNtQu49yzZrLeUiNxoEFVQP0gbH/Hbzau4h757y8/IK78vreOwd8QL49f0oAb0DyAcGDHMPVRN3F/8Y3xZkEycSyxVgHC0eEBbMCaYCjwFeAen/K/6d/L37Tfxu/ZP9Sv0//p0A0gM8CKANghF1ERoOIwoGCJ4IOwreCSUHkAQ0A4UBiP4D+wL4m/aW9xj6Bfwn/Nz6+vhQ9672H/fh90D49fc093L2ZvXM8rLuUet56mnrUexg7Cjr8Oic56DoburG6hHqvuqB7fzvKvFh8L3tseuu6y7uPfD07zHuKOt06ZPpbOqf6v3oZufB5dzjtuEu3yHg2+lj+z0L8xGkD48QNyClNWNBUjtpLaQo9ywtM0Qy1id3HHMUWRB6DVMIxQM8/034T/QV9jn7+f/x/+b8qPsHACsKJBKgEgkQ6A7vECMVSBfdFBIOLwgqBwsIegifBaf+cvcU89Lxq/F38bjwNfA58j737fwMAIsASgHZBEILxxFhFR4VDxPCEQUSWRGMDY4IYgQLArIAAf/Z+wj3V/NW8Zrw9vDm8e7ymPLz8TnyO/PD9En1QPTB8171Bfjj+D/2zPJU8ALvHvBl8kD0w/Sl83nysvL388H0MPV39pj41fqs/cYAywETAtICMgJPAbACTwVKBQgDLQFz/7H+KP/0/mL9+/vM/C3+B/1j+lz5ZvnO+C74Ifjy+CL7dv78AOgADAAtAagEYgmEDDIMpAqACs0MjxC9EjQShxCsD+IQxxIzEwMS5Q9YDhwO+g4ZEJAPzA27C/oKPwzSC1QK8wgWBuYE9QW0BZsDuQFkAFL+Gf39/Ej8kvpX+D73yvZd97L4svig+Lz4TPkB+2L8af3R/eD9/v6YAKcBPwJoAmYC2gJjA/0DygPxAggDDQMTAzIDjAK+ATUBQgE9AcYAVwDp/8//AgASAAAAhf/f/sH+vv6A/hn+Pf13/Db8CPyo+7v6YfmI+I74//gC+Yv4Q/gS+BT4b/i0+Pr4TPmQ+fT5Qvq7+nL7UfuX+mj6sfrn+q76NfoB+vf5+fnv+eX5//n0+c75tvnD+ez59/nV+Zr5Efmq+Fz5dfp3+0b7nPoD/I39Nf9kAa4ClAMhBMkFzAhRC/YMrQ16DRgNDw6vD0IQPRDtD/UO4w1vDikPHA5YDZ4MGwuDCrcK4AoUCkMI0AZaBVoEUwRtA5cBz/+7/hv+Vf0X/Rz8Y/rV+UT6rvqK+lb6Hfob+qb6lvug/Ar9FP3o/EX9B/6x/lv/C/++/h3/pv89AHYAXwAkADYA0QCaAfwB3QHqARACIwJtAtUCuwIWAmsBBwHyAPoArADi/wT/cf4j/uP9Lv0p/Cf7a/oW+s75ivn3+E34BfjH96X3ifdv92f3cvfH9xL4APi994n3t/f49/P3H/gf+OP30fcF+HT4Lvjr9973svcX+Hn4xviY+Bz4+vd2+Of5L/v2+xX8kfxX/iEAZgKTBCMGXgcsCDMKyAygDu8POhD3DyUQsRAtEY8RGxFPEJAP+g4ZD3wOhw2XDIALAQtXCrUJIQmpB8kFoATXA1sDggKyAGb/I/5f/Vz9hvyR+3D6xvkE+vf5MvpJ+hP6Xvqz+h373Ptq/LL8Nv3O/bT+kv/f/zYASABXAOMAbgHdAd8BtgEJAkQCXgKrAo8CfQJ/AkwCigKrAqECcAIWAu8BsQFeAbkA8f8y/33+y/0U/XT8bfuP+uD5FPm3+Cb4o/dV9xL3NPdO92X3SPcX9yz3ZfeO93L3VffZ9pT24fYd91j3Bffp9iL3Ffdt94H3uvf198n38/fb99H3B/jj97X3XPiS+eL6APyb/M79W//yASQF4gZ8CNYJhQvwDfwPzxEFEl4RGBH+EJERIhLaEaQQDA9QDpAOYg7hDTQNyAvoCs4KnQrjCV0I0gaVBVoEPAMBApUAY/9C/kr9sPz9+wv78vl2+cb5Afr/+e/50Pn/+YL6E/u4+yf8Tfyt/H79iP5H/7b/HgCDAPwAjQEdAocCsAKrAs8CKgNqA1sDLAMqAxgD8QL+AggDzwKHAmACPAL5AWYBeQC2/1T/7P5F/nT9UPwB+/f5PfnR+Hv4B/h099z2q/ao9o/2sPbF9pn2m/bf9hr3WPd09zv36faR9qP26/Yf9zT3pvZ69rj2zfZV93L3b/ee94v3pfe197X3kfc7+L75Dfss/MT8tP1E/+cBaQWrB00JYQqKC+YNexCeEscSlBHkENUQihEaEvMRwxDlDukNBQ5QDhIOTg3sC6wKiwq5Ck0KCAmHBwwGtQTzA88C6ABb/4P+BP5s/Tv8Bvvd+RT5dvnq+Rb60Pk1+Xj5cPpq+/j7HPws/Nb8/P0q/y4AjQCyAN0AXgE8AqkCuAKhApwC7gJ1A7UDSwOpAn0C1QJJA3UDKgOrAmMCWwJ9Ai8CawGBAKH/PP+5/u398Pym+5T6tvn8+FX4m/fu9nX2TvZE9jT2KvYG9vn1OfaE9pT2nvau9oz2ffaR9mX2E/bn9QH2MvZY9pT2mfaU9tz2EPdG91X3b/el90P3O/cX+FT51/r9+5v8kP1t/3gCyQX7B6IJFgvKDEUPWRGjEr8S+RGPEWMRqxHUEQMRyw90Dr8NAg5YDhIOQw0gDIULwwuCC6QKMQloB+gFmAS4AzoCHgBu/mT98Pw+/En7GPoE+cv4XPkG+gb6wfmA+bT5lPp3+9f7yvsn/AD9Hv5J/ysAgwCsAJcBqwI+A28DegN8A7ADQwRxBBoEdwPuAucCHwNdAx0DswJRAi8CjwKmAnUCxgHTACEAs/9o/1L+9fyw+0n6Svmg+Ob3BfdL9tf1gPVh9aH14vXd9eT1GPZg9s32GvcI9832bfYy9ir2P/Z19mr2WPYq9jn22fYQ92r3vfew9wX4Nvg++Az4dPeO92/4rPk5+w38nfxC/osA9gNRBy4JmgqaC5YNdRBYEjsTWBI3ETcRaxGeEeQQgw9QDpkNCA6iDkgOQw00DLELwwvdC2EL0wnKB3MGmgWGBM8CKQCi/X78ify3/A38hfoh+Z34LvlR+uT6h/oq+o/6lvu8/D398Px5/LX8DP56/2IA0QDtAKIBuwK6A0sEygNWA7MDQATOBK8EswOmAhMCcALnAq4CRwLVAcMBPwK4AsMCMgI6AWwADACc/+L+pf0k/OT60/nw+N73x/YO9pf1rvXX9dD1zfWf9d31Ufaj9gj3Cvfz9hL3Hffp9lP2FfYy9j/2h/a19tf2Hfeb9/r3z/cH+FL4fvjG+J34JvhI98L3fvns+jT8gfyN/c//7AILBz4Jbgp2C98M9A9VEq0TLBNWEZQQrBA0Ef4Q9A87DtIM5AyeDUgObQ00DHALIwv0C40L/QnxB/IFHgUDBM0C4ACs/Zb7PPsI/E38S/sb+v/4HvmK+gD8hPzK+2X7q/uT/Mn99f12/eH8Sv22/s//9QCAAZUBLwJJA34EmwQfBPsDWAS6BPMEqAROA0kC7AEYAnMCKAK5ATABPQHsASMC0wEhAVcAof8J/6f+2P1N/Lv6tvnG+L337vZB9qH1MvUe9Vb1h/Wu9fb1P/ao9gX3Bffu9vj23Pae9pv2qPar9q72wPYK9yz3dPfe9w/4b/hk+GL4qvhs+Dv4v/dy91z4mvkG+xf83vzT/poBvwR/BwIJnwpRDKIOehENE2oTJxLkEMAQ1xDXEMYPbA5ODc0MCA1ODScNGwwrC8YKSgvVC9YKCgm0BvgEvQPyAfb/O/11+uj4r/i8+A/49vbD9Zn1j/bZ9wz5TPkJ+rX8aP8hAUIBAgDa/zsAawJ0BXsFtQTmA1UEogV+BWEFOQRJA5ME0gajCBoJdwjVBugFFAasBgEGOQQ5BPYDbQPxAr4A6v3i+hv63/pC+tX59fhy9xL3Yvc+9zT21fQR9BT0sfT59WD2evXl9J/0hfRp9Kn0IPX/9L71kfeD+CT4vfeY94v3APj/+O/5BPoE+q76kvr5+eL5Rflp+Dj4Wvh0+Lz4HfoS/DP9VP6aABoDKQUQB8cIrAprDG8OphAtEe8QIxDMDnkOWA7eDQsNLQwqDFkMfQywDF4MZgt+CmQK9AryCpMJ9AceBg8EpAK8AL7+Hv1o+9X6kvpm+un6MvsD/In8GvwI/Dv8Rf1z/gv/gv/Q/vz9If5C/ib+Jv5u/j//twBgAi4EHAUkBVcFWgXbBVcGEQaxBUoFMAXRBMcDfQImAf7/2v+0AAQB5QCvAI0AxgC0AF8AVP+3/a382fsV+4/6y/mT+F33kfb+9Wv1CfUy9cD1ffZt9wz43veB94b3lvdn9233yffE9733Svid+D74GfiI+JP4t/gP+ZD5W/qU+hj7A/v/+Wv53vj/+Pz4B/kB+uT6b/zd/UT/cQHHAyYGhwfpCAcLEA0wD6YQMhEgEGIO6Q2WDRgNWQxuCy0LIwt9C8ALXgvoCmcK/wkMCmQK3gmRCEwHIwb4BNoCvgDy/kD9Q/3w/U/+mv3p+1v7cvty/OX9/P1A/Wf8tfzd/T3+Cf6G/dH8Bf19/uz/sgAEAUoBCQIQAzQEeQS6A54DHwRIBAoENwP8AegAewDtADgBywBaAC4AkwB2Ad8BewHEACsAs/8//8H+//2E/Nr6C/pk+Vf4YvfU9o/2W/bC9jT3Cvfr9vP2Gvdv98/3DPj699n3+vcU+Pr3D/gP+Mz36/d++Dj5//mX+uT64vq2+tr6IvtG+3/7aPsa+yX7W/vA+2f8ZP2a/l7/ZwCZAv8ELwemCHwJhgpeC6MM9Q0pDtcNxQzsCwEMmgsBCykKbwm/CfgJOAqDCl8KZAqxCmELSgv9CYwIngdEB40GOwUIA4EA7P4j/rL96/wI/Eb7rvos+wD8bPxT/Aj8OfzC/GL9nf1x/Ur9i/0H/jj+Qv7y/dH9hf6P/40A6gDLANsADgGXATUCWQIdAr4BlwHlARsCIwLnAWQBKAErASEB8gCNAEMAHADP/0z/eP5f/Wr8rfv2+nD6w/ke+bz4YvhN+Az4uvfe9/P3/fcu+HH4svjT+Oj4DPko+QL5FPlu+aL5w/na+TL6q/on+8X7S/yq/J38oPxN/QT+eP4Y/3X/N/8B//7+cP/S/+n/hgAUAQsCOQP9A/8EqgUmBqcGfQfMCJ0J+AlAClwKJgoCCqAJ3ghOCAgIUwh3CJYIfwiRBzUHawezB7gHVAfxBpcGWQYOBmQF5gNgAlkBWgDp/2v/n/7y/Vz9Tf0k/bL8jvx8/Jv8B/17/c794/2n/Zr9uf2v/aL9cf2T/fX9OP6s/vL+6v7n/gn/Yf+x/9r/7v8KADEAbgCLAFoAJAAKAAUA+f/i/9f/wP+p/4z/KP+X/iH+t/1p/Rn9kfwQ/Jb7CPuZ+jr6zvmQ+Wv5R/lz+Y35kPnI+fz5Sfpr+nX6u/rn+kn7tfsA/G/8kfyd/Nv8SP31/W7+mv7n/kn/u/95AOAAQgFMAREB2AE3ApIC0gJRArYCwwIYA70DhwPXA/gDJwStBM4E/QTZBPoEewXBBbkFkAVhBRcFFwXeBLUEtQRTBFAERgQ2BCkEvwOgA2oDJwMIA/ECuwJJAiMC5wF7Ad0AbABkAPH/z/+r/0n/Uf8l/0f/Vv83/1v/C//v/ij/TP+C/4z/c/9z/3r/ev+U/3//VP9J/0L/ff+M/2v/a/9H/y3/I/83/0n/Hf8o/3P/kv+C/23/L//3/vL+5f7L/qL+e/5e/h7+7f3L/ZD9ZP09/RT9Gf0h/RT9Bf3r/Mz8vPy6/KP8efxn/HT8kfyO/FP8OfxT/Fj8fvy6/Mf8F/2B/aX9wf3w/Tj+jf4o/6T/of+U/5z/GQDGAEcBnwFCAQwBOgGXAToCUQKhAvQCwwLpAtwC3wIIAyIDhAObA2ADPgNTAzwDJQMLA48CVgIbAlECoQI6AjICzQGDAZIBKwEjAdYA3QAWAckA7wCsADYAEgA9AH4APQAUAPH/BQAkAGIAywBxAEoAKQD2/0gAUgCNAJ0AewC0AKoAogCYAJ0AsgCQAJMArACvAJAAkABiABIAJgAUAO7/0v+4/8//pv+P/5L/P/8W/xv/GP8R/+z+y/65/o/+lf7G/r7+e/5F/ij+Nf5P/j3+Ov4M/vz9KP5C/mH+Ov4W/hn+K/5m/lf+Qv52/rb+7/4q/2P/Wf8//3r/of+H/5T/pP+r/9X/3P/k/8//c/9M/2v/nP/V/9L/u//F/+T/KwBXADsA9v/A/xIAUgB5AMsAhgBDAEMAFADs/8j/1f+9/83/SABpAIsArABXAEUAfgCIALQAGwE1ATABIwHOAJMAgQB2AE8ATwCiAKwAvgDdAK8AgwBnAJ0A2wDdAPwA+gDoAAQBHgH3ALQAqgCBAFwAgQCGAIEAewCBAHQAOAAxACYAMQBFAAwA9v/u/7v/qf+2/67/nv+r/67/lP+F/4L/Yf9R/4L/f/9j/07/R/8//+f+1f7n/rb+u/7V/u/+BP8b/x3/2v67/vL+Lf9C/17/Yf8t/y//TP8O/8v+0P7T/rn+2P73/vf+L/9o/3P/gv+M/7H/3//c/wIATQAxABQAVwA7AAIAAAD0/y4AbgB0AHsAewBIACQAfgBxAAcAPQB0AG4AjQCLAFcA8f+Z/6H/1/8PAAcA3//f/9L/9v8uAP7/2v/s/5z/ff8AAAIAmf+x/8D/l//P/wwA7v/f/xIASgCQAMQAgwBSAJ8AtACsAOMAhgAmAGQAcQB0AKUAtACiAKwAvgCYAIsAmAB+AHYAXABaAKoAwQCVAK8ArwBNAE0AXAD+/ykAcQArACYAVwAuANz/qf9//4//1f/N/8//5P/N/8X/yP+m/6b/7v/+/+T/9v8cABcAAgAHAPb/AgD5/6T/h//V/wAA2v/c/8//qf+p/8X/rv+C/67/nv+4/zsAEgCZ/9X/9v+S/7b/yP86/1b/nP8g/1n/3/9E/8j+GP9t/6H/xf+U/5L/3//u/8j/xf8PAOL/rv9AAIsATwAhAOz/yv8MADMA3//a//7/qf/5/50AEgCr/wUApP+4/y4Amf+h/wwA3P/7/yEA8f+z/8P/7P/x/0gAXAAAAAwAJgAeADEADwD0/yQATQBpAIYAVQBDAFwAHAA7AHYAmADGAH4AlQBnAA8AaQAzALv/OwCGALH/z/89AJL/h//x/73/kv/u/xIA/v8ZABkAJAAkAEUAKwD+/2IAWgBfAJoAVwAuABwATwBkAB4AUgBkAAwAFwBcAFUAUgBxAEoALgBKAGcAVQBDAHQATQAHABIA/v8cAPb/0v87AOz/ff+2/5z/df/N/8r/f/+c/7P/rv/p/0UAMQD2/ykAKQDs/yQAVQACAOn/4v/D/yEAQAAUAEgATwAcAEMAbgAHAOL/OABAAGcAbgAeAEMAWgAKAAIAKQAFACYAQAACAC4AcQB7ACsABwAuAOf/4v8kADEAHgAFAOn/uP/N/xwA3P/V/4YASAD5/1cAw/9t/9z/l/9//+f/yP9O/4//SAD0/23/7v/c/33/wP8AAIEAhgBaAM4AQwDx/6IAaQBDAIMAcQBiACkAKQAeAMX/9P8PALj/1f/5/6v/rv8xABcAnv9o/0T/kv+c/00AvgC2/6H/u/86/1n/zf/a/6n/yv8PAN//z/9PAOz/nv8mAPn/BwARATMBqgAEAcEASgCNAL4ABAHEAN0ABAFuAI0AuQBVADgAgwCaAGQAgwCnACEA9v9iAPn/Yf+k/2j/Hf94/23/ff9z/wH/7/4v/yr/6v5//6b/KP+X/73/jP+2//b//v/i/w8ADAD+/4MAFAGnAIYA6ABSAIsANQHGANMACQF2AIEA9wBnAD0AnwAMANX/KQD5/5f/s/+4/zf/Vv9m//7+Uf+P/3j/tv/A/4r/j/9m/yr/P/8q/3D/bf/Y/kL/h/9w/6v/q/+9/5T/w/9AAFUAnwDTAO0A7wDqAEcBCQG8AA4B2AC+AOAAwQB0AB4AdgB0ACkAYgBiABQAAgBAAFcAWgBaABQAl//F/0AArv/A/wIAL/9E/5z/aP9m/0z/ff+Z/4X/tv9j/2P/HAApABwAbgArACEAvgCBABQAjQBkAOL/LgBXAC4AMQAkAB4AewC5AJAAgwDyAKcB+QFOAn8C+QEeAYEAmABpAP7/OABAANX/sf+h/z//Vv+x/1n/Xv/a/2P/KP+Z/4f/P/+P/+n/pv/K/wwAqf+X/+L/1f+h/9X/MwAcAPT/AAA4AJMAewBaAE0AQwB7AEMAJgBfAPT/j/+U/3j/Uf9O/2H/Xv99/+n/7v9o/4f/7v+r/7j/GQDx/5z/xf/f/9L/5//D/8P/sf+c/xIAdgCfAJ8AUgBkALwAogCyANEAmgB7AIMAfgB5AHYAgwCaAI0AkwCiAJUAcQBpAGcAQwBfAD0AMwCBAAIAnP/f/5L/kv8pAOn/nP/i/73/iv/D/8//xf/5/+z/3/9PAEAA7P9FAFIA9v/5/2QAbgAzAIMAXAAxAMkAzgAxABwAZAAeADMA6ACnACkAbgB2AJoAtABPADEAZABfAAcAAAAPALb/h/+9/4r/a//n/9//w/87AGQA1/8KAIEA0v/f/7QAVwDV/2QAaQDu/zMAXAAmAPv/HABaABQA1/8AAA8A/v9XAKoAOAAKAFcAeQBIAPv/JgAkALv/AgB0AD0A7v/+/w8Azf/A/w8AAACX/8j/5//N//T/3//+/8//kv8HAEMAIQAZAAUA1//5/zEAKQAkABQA+/8PAAoAVwBfAMr/+f8AALH/+f8kANf/w/8MAOf/AgBSAA8A6f8KACYADwAFAAUACgApAP7/3P/5/9f/2v/u/6v/rv/K/8X/w//D/83/BwAxAN//nv/A//7/MwAeANz/8f/c/3r/0v8SAM//9P8HANr/6f/V/7P/AAASAOn/AgDk/8X//v8pAEUAKQDx/9f/yP/5/xQA9P/5//v/z//n/+T/5/8mABcAAAAUAPv/pv/k/w8Amf+z/73/VP+e/+7/lP9o/4X/gv9M/57/3/9O/33/u/+S/5f/l/+9/7j/FAAHAJT/7v/i/9z/FwDi/+T/1//5/yYA1f8xAGIAxf8hAHEADADu/xIAPQDn//b/QwDF//H/eQAKAK7/AAAeAJn/lP/u/+L/0v/X/9r/qf/a/1UAAgDA/+f/yv/x/w8Azf/i/wUAxf+h/xQADADK/xkAHADf/83/HABIAPT//v9FAAAA1f8mAPT/h//F/8//eP+4/wwA5P8KAD0A1f+h/+T/3P/P/+T/pv+h//v/vf+F/+z/xf9E/2H/3//c/9z/HACe/8P/BQCe/9z/KQBVAFUAKwBDAKoAtAASAEgAdgDf//7/JADn/xwAKwCU/3P//v8PANz/GQBAAAUA4v/A/8X/HgAFAI//yP/F/zf/cP+9/3X/cP+x/4r/gv/X/7v/df9z/wcAMwCr/zMAdAD2/ysAWgBkAFwADAAHAEUAMwAcAEMAMwApACsADwAeAAUAxf/c/8r/vf8FAOz/w/8KAPv/pv/0//7/rv/x//H/7P8FAM//9v/2/+7/CgAPADgAMwAzADsADwA4AJ0AOAAHAG4ANgAcADEAOwA4AN//AgAcAL3/AAA7ALH/c//u/wIAjP/f/xkAiv+4/zYA3P+S/+z/s/9j/+T/7P+H/+n/7v9J/+f/SgCM/8//OwCx/6H/LgAcAP7/VQDi/2v/4v/+/8P/4v/5/9X/vf87AJUAFAAkAHkAFwAxAJoAcQAzACEACgAmAEAAFAA9AFoA1//K/ykA8f8HADgAmf+4/ysA2v8CAFIA7v+F/8r/BwCz/woATwCk/7v/5P+C/8j/9v+c/0z/cP/A/83/6f/n/8X/1f/p//T/3//5/wUAsf/s/08A9P/S/zgAHgDk/3QAnwBAAIYAdgAkAE0AcQCQAH4ALgAuAGQAKwBSAKoATwBIAHkARQAKAEgAiwA7ABcAZABDABkAewBsADYAQADp/wAASgDx/+7/SAAeAPb/JAAeAP7/WgCdAEMAPQBpAEgAUgBAAAUAAAAAAOf/9v9KAPn/vf9KAHEANgAmAEoADAA7AL4ANgAzAI0AHAD7/yQA8f/0/ykA5P/p/0MABQDi/0oANgCc/9f/VQDk/8r/GQD0/+f/VQBuAO7/KQBSAMr/QwBnAL3/6f8UALv/3/8eAMP/AgB0AOz/zf82AB4Axf82AHkAwP/u/24ABwDn/z0ALgDN//T/HAC7/9f/TwASANf/MwArACYATQAeABcABQD5/wIADwASAAUALgAFAAoAVQAmABkABwAKABwAFwBxADEA9P8XAPH/MwAxAPn/FADn/+n/7P/n/z0A9v+c/wIAFwDF/yQAXADp/wUACgDN/x4ATQDk/+z/ewArAAoAbgDs/6v/+f/5/+L/BwAUAMr/2v8MAAcAKwBPACsAAgASADEAKQAxABIA9P8hAAUA7v8hAOf/w/8cAA8Aw/+7/9L/zf/c/w8A3P/X/woAsf/S/1UA7P9///n/7P9m/8r/JgDP/+f/MwDa/8//DADk/+7/HAAZAPb/9P8UAO7/lP+r/wAAxf+c/+n/vf+F/+7/+/+2/+L//v/s/yQAMwDu/wIA/v/F/+T/9P8CAOT/yv8AANL/1//7/+z/EgAFAAoADwD+/xIAEgAxABkAAgAPAOn/6f/V/7v/1//c/8r/wP/F/7b/s//a/+f/0v/f/wIACgAUAPn/+/8zAAoACgBcACEA1/8FADgAHgDk//H/AgD5/w8AMwAXANr/9v8MAPT/KQBDABIABQAZAAoA+f8SANz/3P8SAOL/BQAZAMr/5P8kABkAAgAkAAUA2v/x/+7/7P/5/wIA1f/K/w8ADAAAAB4AFwD7/xcAMwAxABwA+f8UAAwAAAA2ABwAHAAzAB4ASABkAFoAZABVACYAFAAmABcAAgA4AD0A+f/5//7/4v/2/+n/rv/A/73/eP+P/7H/nv+x/6T/lP+u/8X/s/+P/8j/4v/D/9r/w/+z/9X/7P/5/+z/5//c/w8AQAAeABIAAgAuAEMAQABkABkAPQCYAEgATwCGADgA+f8uAEAAAAAXACEA8f8UAA8AwP/0/zEA3P/i/ykA/v/k//7/7P+z/73/4v/p/wAA2v/f/w8A7v/p//v/+f8AACEAMQAUADgAbgBVAFcAXwA4AE0AdgBfAGIAdgB2AHkAkwB7ADEASABxAEMAMQAzAA8A7P/a/9X/0v/a/9f/rv+m/8r/3P/D/8//8f+x/67/8f/N/8j/3P/A/8j/w/+h/7b/xf+2/6n/of/K//T/+f8ZAC4AKwAuAD0AZACQAKwAogCVAKIAiABuAH4AdgBFACsANgAuACQALgASAPv/+f/c/9r/5P/i/+n/w/+r/7H/sf/I/7v/uP/a/8r/rv+4/8P/nv94/4X/l/+U/6T/s/+m/6n/0v/p//v/FwAXAB4AKQArAFUAZwBKADMAPQBSAFwAOAAMACEAKQAcABcADwASAP7/5P/5/xwABQDn/wcAAgDf/+7/BwAUAAIA3P/k/+z/3P/k/+T/3//s//v/6f/X/+T/1f/f/xwAEgD+/yEAFwAzAF8AKQAmACEA4v8MACsAAAAmAE8AGQDx/xcACgDi/xwAIQDi/wAAEgDp/wIAEgDP/8X/0v+2/7v/1f/V/7P/tv/N/7P/w//n/+n/8f/0/+n/4v/f/9f/1f/V/9z/2v/S/9L/4v/7//7/9v8KAAcA7v8AAB4AHAArADYAHgAKAAwADwAFACkASAAUABIALgACAO7/GQAkAAUAAAD7/+n/IQBKACQAHAAFANf/xf/F/9//z/+z/8P/uP+U/3P/iv+x/6v/0v/i/8r/+f8AAOL/BQAMANr/9P8SAPb/BwAmABIAHAAXAPT/DAAeAB4ASgBSADsAOAAzADEAJAAXAB4AJgAxACQAEgAKAP7/8f/p//H/7P/a/9//1f/F/7H/qf+9/8D/yv/S/83/5//a/67/yP/a/7v/zf/x/9r/s//k/wAAyP/u/zYAFAD0/xcAHgD0/wAAHgAXAB4AMQApADgATwAhAAUAKwArAAcA/v8HAAUA/v8CAPT/4v/f/+L/3//k//n/9P/n//n/AgD0//v/+f/k/+z/6f/x//n/7P/x/wAAGQAPAPv/9v/0/wwAEgD+/xIAJAAZABwAHgAFAOn/7P/i/9L/5//n/+T/AgDx/+z/EgASAAUAFwAkABQA/v/7/wwACgD0//T/CgAHAAAAEgASAAwAEgASAEAATwAxADYASgBVAEoAUgBcAGQAbgBSAE8AaQBFADgARQAmACkAPQBDAFoATQArACYATwBIABQAFwAFAOT/3P/P/73/w//K/7j/xf/N/8X/z//a/+n/6f/i/+f/5//a/9r/yv/I/9//3P/n/xwAMQAFAAUAQwA9ACkASgBNACsAMQBNADsAHgApACYAHAA4ADgAGQAmAB4AAAAAAAUA9v/V/9//3//I/9L/w/+7/8D/pP+r/8r/sf+c/7P/nv+U/7H/yv/k/+T/2v/i/wwAFADS/8r/4v/N/9f/9v8FAAcADwAMAAUAKQBAAEAASAA7ADYAYgBkACkAJAA2ACEAKwA7ABwAFwAhAA8AAAD+/+n/yv/V/8//qf+p/7b/uP+2/6n/j/+F/5n/of+U/6H/q/+2/9L/3//K/8j/2v/n//T/+/8AAAwAFAAMABQAGQAcACEAEgASACYALgBAADYAKQA4ADsAPQBKAD0AMwBNAE8ALgAhAAwA9P8CAAoA8f/2/wwA+f/n//7/+f/P/83/4v/f/9X/2v/s//T/3//i//b/3P/F/9L/3//x//T/0v/F/9X/5//+/wIA/v8KACkAPQA7ADgAPQBAAEMAOwAhACQASABSAEAAKwAcAAoAAAACAP7/4v/a/+z/6f/D/7j/1f/N/7v/w//A/8P/zf/N/9r/1f+z/7v/yP+9/8D/uP+u/8r/2v/F/8D/zf/A/8P/4v/s/+7/AgAKABIAJAAkABkAMQBDADMAJgAxADsAQwBAACQAFwAXAAoABQAAAAUADwD0/+n/EgAMAAAAJAAZAAIAEgACAOn/7v/k/9r/4v/P/8D/1//n/83/sf/F/9L/s/+9/+T/yP+p/73/z//I/7v/vf/f//v/3//K/+z/+f/a/9f/0v/I/+z/BQAAAAAADwApABkABQAXABwAFwAeAA8AAgAZABwACgAAAAIADAAKAAIABwAFAAUA9P/k//7/AADx/wAABQDp/+z/DAAHAOn/6f/n/8P/yv/+//H/0v/2/wcA7P/0//T/w/+9/9X/w//K/+f/6f/2/wcA+//u//H/7v/2/+n/1f/0/wIA/v8XAAoA7v8hADYAEgAkAC4ADwAUACkAFwAhAEoANgAkAFoASgAhAEAAQAAZAB4AHgAHAAAAAAD+/+f/3P/i/83/u//A/73/wP/F/6n/uP/V/7P/zf8HAPT/7v8PAPv/7P8HAA8AAAACAAUA9v/0//v/+f8AAAAA+/8XACkAGQAhADYAPQBaAGIARQBFADgAFwAhAC4AFwAZABkAAgACAAoAAAD7/wwADADk/9r/7P/S/7b/z//S/7b/zf/s/9L/z//s/9f/xf/f/83/qf/K/+T/1/8AAC4AFwD+//n/5//f//v/IQASABIAQwAmAPv/HgAhAAcAIQAuACkAQABFADgAQwBIADMAHAAcABwAAAASAD0AJgAUABkA9P/x/wIA3P/x/yEA7P/P/+z/yv+2/9L/yv+k/4//rv/p/83/u//n/83/tv/X/9r/2v/c/9z//v8MAPn/5/8AAPv/wP/V//b/1f/n//T/3//s/+L/2v/a/9r/+//c/+L/FwDp/8X/8f/0/9L/7P8AAN//2v/p/wAA/v/i//7/AAD5/xkAEgAcACQAFwAZABkAHgD2//H/KQAKAPH/HAAAAAIAOwAXAAwAJAAFAAAAHAAmAAIA8f8zADEA1//i/wAA1//p/wAAwP/N//b/1f/S/9//5P/s/+n/8f/s//v/9P/K/+7/CgDu//n/BwD+//7/AAD7/xQADwD5//7/8f/0//T/+f8PAO7/5/8FAPn/BwD+/8D/5P8UAOT/3P/x/+T//v/x/8X/1f/s/9//4v8HAOz/zf8AAPb/3P8AAOn/3P/7/wIA9v/k/wAA9v/a/xIAHgDx//H/AADx/+L/9v8PAAcADwAAAOL//v8HAOT/1f/i//b/AgAFAOL/z//n/9f/4v8PAAAA6f/7/wIA6f/p/woA7P/F/wAAAADk/wcA8f/X/+n/yv/S/wIA+f/2/wwABwDs//H/HgArABwALgA2ACkADwD7/wcA/v/p//T/4v/P//v/7P/K//n/8f/n/woABQACAPv/3//0/wAA3P/n/+z/yP/k/wUAAgD7/wIAHgD7//H/PQAmAP7/KwAhAOz/AgA4ABcAFwA9AAoACgAzABIA+/8hAC4A6f8MAFcAEgAHACEA9v/+/xwADAD2//7/+//i//H/9P/p//v/5//S//n/BwDV/9z/9v+9/+f/EgDK/8j/AADi/7H/7v8KANf/BQAZAOL/7P8KAO7/3P/0/+f/EgApAPT/DwAUAP7/HgAZAPv/8f8PABwAAAD0/wAAHAAcABcAEgDu/+n/DwAFAO7/FwAHAO7/IQASAOf/BwASAPb/BwAUAPv/9P8HAPn/6f/5/+L/3//7//7/1/+9//H/9v/c//v/7P8AACEAAgD5/xcAPQAXAPb/LgASAM//+f8UAPn/+/8HAPb/8f8HAAwAAAAHACsADwACAEUAKwAFACEAAADu/x4AIQAHACEAJgAAAOf/9v8FANr/4v8AAN//6f/0/+L/2v/u/wAA6f/x//v//v8AAPb/AgACAAIA9v/f/wUAFAAFABkAKQACAPH/MwAXAOL/GQAMAOz/JAAmAAcAFAAXACEAKQAUABIAKwAmAAwAEgApACkACgD7/wcADAAXABkA+f8AAAwA5P/k/+7/4v/a/9z/8f/N/8D/5P/k/9r/w//D/9z/8f/5/+f/9P8FAAcACgAFAAAAEgAKAAIAJAAUAAcAKQA7AB4AAAAPAAIABQA9AC4AAAD+/wAABQDx/9//7P/x/wAA9v/2/woA5//7/xwA9v/0//n/7v8AAOn/vf/S//T/9P/X/+n/5//D//b/+//f/+n/+f8PAPn/8f8PAAAAAgAMAPn/8f8UABkABQA9AE0AEgAmAD0AMQBFAE8AOAApAEUAKwAMACEA+/8ZAFcAKQAmAFIAOwAUAA8AJgAxAAoABwA4ACEAHAA2APH/+/8zAPT/9P8cAAIA/v8MAB4AEgAAACsAFAAAADYABwDi/yYADADa/xkAIQAFABwABQACAPb/KwBpAPb/5P8mABkAHgAcADMAMQAMABwAIQAmACsA/v/s/xcAEgD7/yEADwD+/yEA3//s/z0A+//V/wIAEgAMABQAKQAkACQAMQAxABcAAgD+/wUAAgAAAA==\" type=\"audio/wav\" />\n",
       "                    Your browser does not support the audio element.\n",
       "                </audio>\n",
       "              "
      ],
      "text/plain": [
       "<IPython.lib.display.Audio object>"
      ]
     },
     "metadata": {},
     "output_type": "display_data"
    }
   ],
   "source": [
    "for waveform, label in waveform_ds.take(1):\n",
    "    label = label.numpy().decode('utf-8')\n",
    "    spectrogram = get_spectrogram(waveform)\n",
    "\n",
    "print('Label:', label)\n",
    "print('Waveform shape:', waveform.shape)\n",
    "print('Spectrogram shape:', spectrogram.shape)\n",
    "print('Audio playback')\n",
    "display.display(display.Audio(waveform, rate=16000))"
   ]
  },
  {
   "cell_type": "code",
   "execution_count": 56,
   "id": "previous-clear",
   "metadata": {},
   "outputs": [
    {
     "data": {
      "image/png": "[encoded data removed]",
      "text/plain": [
       "<Figure size 864x576 with 2 Axes>"
      ]
     },
     "metadata": {
      "needs_background": "light"
     },
     "output_type": "display_data"
    }
   ],
   "source": [
    "def plot_spectrogram(spectrogram, ax):\n",
    "    # transpose so that the time is\n",
    "    # represented in the x-axis (columns).\n",
    "    freq_bins = spectrogram.shape[1]\n",
    "    time_dur = spectrogram.shape[0]\n",
    "    X = np.arange(time_dur)\n",
    "    Y = range(freq_bins)\n",
    "    ax.pcolormesh(X, Y, spectrogram.T)\n",
    "\n",
    "fig, axes = plt.subplots(2, figsize=(12, 8))\n",
    "timescale = np.arange(waveform.shape[0])\n",
    "axes[0].plot(timescale, waveform.numpy())\n",
    "axes[0].set_title('Waveform')\n",
    "axes[0].set_xlim([0, 16000])\n",
    "plot_spectrogram(spectrogram.numpy(), axes[1])\n",
    "axes[1].set_title('Spectrogram')\n",
    "plt.show()"
   ]
  },
  {
   "cell_type": "code",
   "execution_count": 57,
   "id": "26fa4527-72ed-45fc-8c06-9333274fce77",
   "metadata": {},
   "outputs": [
    {
     "data": {
      "text/plain": [
       "(24, 32)"
      ]
     },
     "execution_count": 57,
     "metadata": {},
     "output_type": "execute_result"
    }
   ],
   "source": [
    "spectrogram.numpy().shape"
   ]
  },
  {
   "cell_type": "code",
   "execution_count": 58,
   "id": "undefined-filter",
   "metadata": {},
   "outputs": [
    {
     "name": "stderr",
     "output_type": "stream",
     "text": [
      "C:\\Users\\user\\AppData\\Local\\Temp\\ipykernel_2684\\2371299125.py:10: DeprecationWarning: `np.int` is a deprecated alias for the builtin `int`. To silence this warning, use `int` by itself. Doing this will not modify any behavior and is safe. When replacing `np.int`, you may wish to use e.g. `np.int64` or `np.int32` to specify the precision. If you wish to review your current use, check the release note link for additional information.\n",
      "Deprecated in NumPy 1.20; for more details and guidance: https://numpy.org/devdocs/release/1.20.0-notes.html#deprecations\n",
      "  ax.set_title(label_list[np.int(label_id)])\n"
     ]
    },
    {
     "data": {
      "image/png": "[encoded data removed]",
      "text/plain": [
       "<Figure size 720x720 with 9 Axes>"
      ]
     },
     "metadata": {
      "needs_background": "light"
     },
     "output_type": "display_data"
    }
   ],
   "source": [
    "rows = 3\n",
    "cols = 3\n",
    "n = rows*cols\n",
    "fig, axes = plt.subplots(rows, cols, figsize=(10, 10))\n",
    "for i, (spectrogram, label_id) in enumerate(train_ds.take(n)):\n",
    "    r = i // cols\n",
    "    c = i % cols\n",
    "    ax = axes[r][c]\n",
    "    plot_spectrogram(np.squeeze(spectrogram.numpy()), ax)\n",
    "    ax.set_title(label_list[np.int(label_id)])\n",
    "    ax.axis('off')\n",
    "\n",
    "plt.show()"
   ]
  },
  {
   "cell_type": "code",
   "execution_count": null,
   "id": "a21fc7a4-2a9b-45d9-9a0a-6561afd7b828",
   "metadata": {},
   "outputs": [],
   "source": []
  },
  {
   "cell_type": "code",
   "execution_count": 59,
   "id": "certified-interval",
   "metadata": {},
   "outputs": [],
   "source": [
    "def copy_with_noise(ds_input, rms_level=0.25):\n",
    "    rng = tf.random.Generator.from_seed(1234)\n",
    "    wave_shape = tf.constant((wave_length_samps,))\n",
    "    def add_noise(waveform, label):\n",
    "        noise = rms_level*rng.normal(shape=wave_shape)\n",
    "        zero_padding = tf.zeros([wave_length_samps] - tf.shape(waveform), dtype=tf.float32)\n",
    "        waveform = tf.concat([waveform, zero_padding], 0)    \n",
    "        noisy_wave = waveform + noise\n",
    "        return noisy_wave, label\n",
    "\n",
    "    return ds_input.map(add_noise)"
   ]
  },
  {
   "cell_type": "code",
   "execution_count": 60,
   "id": "distributed-breakfast",
   "metadata": {},
   "outputs": [
    {
     "name": "stdout",
     "output_type": "stream",
     "text": [
      "element 1 has shape (14861,)\n",
      "1\n"
     ]
    }
   ],
   "source": [
    "# waveform_ds = augment_with_noise(waveform_ds)\n",
    "count = 0\n",
    "for w,l in waveform_ds:\n",
    "    if w.shape != (16000,):\n",
    "        print(f\"element {count} has shape {w.shape}\")\n",
    "        break\n",
    "    count += 1\n",
    "print(count)"
   ]
  },
  {
   "cell_type": "code",
   "execution_count": 61,
   "id": "catholic-berlin",
   "metadata": {},
   "outputs": [],
   "source": [
    "def pad_16000(waveform, label):\n",
    "    zero_padding = tf.zeros([wave_length_samps] - tf.shape(waveform), dtype=tf.float32)\n",
    "    waveform = tf.concat([waveform, zero_padding], 0)        \n",
    "    return waveform, label"
   ]
  },
  {
   "cell_type": "code",
   "execution_count": 62,
   "id": "sound-forty",
   "metadata": {},
   "outputs": [],
   "source": [
    "def count_labels(dataset):\n",
    "    counts = {}\n",
    "    for _, lbl in dataset:\n",
    "        if lbl.dtype == tf.string:\n",
    "            label = lbl.numpy().decode('utf-8')\n",
    "        else:\n",
    "            label = lbl.numpy()\n",
    "        if label in counts:\n",
    "            counts[label] += 1\n",
    "        else:\n",
    "            counts[label] = 1\n",
    "    return counts"
   ]
  },
  {
   "cell_type": "code",
   "execution_count": 63,
   "id": "nonprofit-admission",
   "metadata": {},
   "outputs": [],
   "source": [
    "# Collect what we did to generate the training dataset into a \n",
    "# function, so we can repeat with the validation and test sets.\n",
    "def preprocess_dataset(files, num_silent=None, noisy_reps_of_known=None):\n",
    "  # if noisy_reps_of_known is not None, it should be a list of rms noise levels\n",
    "  # For every target word in the data set, 1 copy will be created with each level \n",
    "  # of noise added to it.  So [0.1, 0.2] will add 2x noisy copies of the target words \n",
    "    if num_silent is None:\n",
    "        num_silent = int(0.2*len(files))+1\n",
    "    print(f\"Processing {len(files)} files\")\n",
    "    files_ds = tf.data.Dataset.from_tensor_slices(files)\n",
    "    waveform_ds = files_ds.map(get_waveform_and_label)\n",
    "    if noisy_reps_of_known is not None:\n",
    "    # create a few copies of only the target words to balance the distribution\n",
    "    # create a tmp dataset with only the target words\n",
    "        ds_only_cmds = waveform_ds.filter(lambda w,l: tf.reduce_any(l == commands))\n",
    "        for noise_level in noisy_reps_of_known:\n",
    "            waveform_ds = waveform_ds.concatenate(copy_with_noise(ds_only_cmds, rms_level=noise_level))\n",
    "    if num_silent > 0:\n",
    "        silent_wave_ds = create_silence_dataset(num_silent, wave_length_samps, \n",
    "                                            rms_noise_range=[0.01,0.2], \n",
    "                                            silent_label=silence_str)\n",
    "        waveform_ds = waveform_ds.concatenate(silent_wave_ds)\n",
    "    print(f\"Added {num_silent} silent wavs and ?? noisy wavs\")\n",
    "    num_waves = 0\n",
    "    output_ds = wavds2specds(waveform_ds)\n",
    "    return output_ds"
   ]
  },
  {
   "cell_type": "code",
   "execution_count": 64,
   "id": "measured-police",
   "metadata": {},
   "outputs": [
    {
     "name": "stdout",
     "output_type": "stream",
     "text": [
      "We have 94963/11186/12316 training/validation/test files\n"
     ]
    }
   ],
   "source": [
    "print(f\"We have {len(train_files)}/{len(val_files)}/{len(test_files)} training/validation/test files\")"
   ]
  },
  {
   "cell_type": "code",
   "execution_count": 65,
   "id": "refined-immunology",
   "metadata": {},
   "outputs": [
    {
     "name": "stdout",
     "output_type": "stream",
     "text": [
      "['_silence', '_unknown', 'orange', 'sheila']\n",
      "Processing 20 files\n",
      "Added 5 silent wavs and ?? noisy wavs\n",
      "About to create spectrograms from 25 waves\n",
      " 0 wavs processed{1: 19, 2: 1, 0: 5}\n",
      "Processing 20 files\n",
      "Added 5 silent wavs and ?? noisy wavs\n",
      "About to create spectrograms from 27 waves\n",
      " 0 wavs processed{1: 19, 2: 3, 0: 5}\n"
     ]
    }
   ],
   "source": [
    "# print(train_files[:20])\n",
    "print(label_list)\n",
    "train_files[:20]\n",
    "\n",
    "tmp_ds = preprocess_dataset(train_files[:20])\n",
    "print(count_labels(tmp_ds))\n",
    "\n",
    "with tf.device('/CPU:0'): # needed on M1 mac\n",
    "    tmp_ds = preprocess_dataset(train_files[:20], noisy_reps_of_known=[0.05,0.1])\n",
    "    print(count_labels(tmp_ds))\n",
    "\n"
   ]
  },
  {
   "cell_type": "code",
   "execution_count": null,
   "id": "48d0ab6d-451c-4e3d-9caa-9b1c8ad3c27d",
   "metadata": {},
   "outputs": [],
   "source": []
  },
  {
   "cell_type": "code",
   "execution_count": 66,
   "id": "conscious-humor",
   "metadata": {},
   "outputs": [
    {
     "name": "stdout",
     "output_type": "stream",
     "text": [
      "Processing 94963 files\n",
      "Added 18993 silent wavs and ?? noisy wavs\n",
      "About to create spectrograms from 172586 waves\n",
      " 172500 wavs processedProcessing 11186 files\n",
      "Added 2238 silent wavs and ?? noisy wavs\n",
      "About to create spectrograms from 13424 waves\n",
      " 13250 wavs processedProcessing 12316 files\n",
      "Added 2464 silent wavs and ?? noisy wavs\n",
      "About to create spectrograms from 14780 waves\n",
      " 14750 wavs processed"
     ]
    }
   ],
   "source": [
    "# train_ds is already done\n",
    "with tf.device('/CPU:0'): # needed on M1 mac\n",
    "    train_ds = preprocess_dataset(train_files, noisy_reps_of_known=[0.05,0.1,0.15,0.2,0.25])\n",
    "val_ds = preprocess_dataset(val_files)\n",
    "test_ds = preprocess_dataset(test_files)"
   ]
  },
  {
   "cell_type": "code",
   "execution_count": 67,
   "id": "instant-sucking",
   "metadata": {},
   "outputs": [
    {
     "name": "stdout",
     "output_type": "stream",
     "text": [
      "training data set\n",
      "{1: 83237, 2: 60720, 3: 9636, 0: 18993}\n",
      "val_ds data set\n",
      "{1: 9777, 3: 204, 2: 1205, 0: 2238}\n",
      "test_ds data set\n",
      "{1: 10793, 3: 212, 2: 1311, 0: 2464}\n"
     ]
    }
   ],
   "source": [
    "print(\"training data set\")\n",
    "print(count_labels(train_ds))\n",
    "print(\"val_ds data set\")\n",
    "print(count_labels(val_ds))\n",
    "print(\"test_ds data set\")\n",
    "print(count_labels(test_ds))"
   ]
  },
  {
   "cell_type": "code",
   "execution_count": 68,
   "id": "controlling-arnold",
   "metadata": {},
   "outputs": [],
   "source": [
    "train_ds = train_ds.shuffle(int(len(train_files)*1.2))\n",
    "val_ds = val_ds.shuffle(int(len(val_files)*1.2))\n",
    "test_ds = test_ds.shuffle(int(len(test_files)*1.2))"
   ]
  },
  {
   "cell_type": "code",
   "execution_count": 69,
   "id": "scheduled-emergency",
   "metadata": {},
   "outputs": [],
   "source": [
    "batch_size = 64\n",
    "train_ds = train_ds.batch(batch_size)\n",
    "val_ds = val_ds.batch(batch_size)"
   ]
  },
  {
   "cell_type": "code",
   "execution_count": 70,
   "id": "positive-publication",
   "metadata": {},
   "outputs": [],
   "source": [
    "train_ds = train_ds.cache().prefetch(AUTOTUNE)\n",
    "val_ds = val_ds.cache().prefetch(AUTOTUNE)"
   ]
  },
  {
   "cell_type": "code",
   "execution_count": 71,
   "id": "exposed-appearance",
   "metadata": {},
   "outputs": [
    {
     "name": "stdout",
     "output_type": "stream",
     "text": [
      "Spectrogram shape (24, 32, 1)\n",
      "ranges from 0.0 to 714.0\n"
     ]
    }
   ],
   "source": [
    "for spectrogram, _ in train_ds.take(1):\n",
    "    spec1 = spectrogram\n",
    "# take(1) takes 1 *batch*, so we have to select the first \n",
    "# spectrogram from it, hence the [0]\n",
    "print(f\"Spectrogram shape {spec1[0].shape}\")\n",
    "print(f\"ranges from {np.min(spec1)} to {np.max(spec1)}\")   # min/max across the whole batch"
   ]
  },
  {
   "cell_type": "code",
   "execution_count": 72,
   "id": "artistic-christian",
   "metadata": {},
   "outputs": [
    {
     "name": "stdout",
     "output_type": "stream",
     "text": [
      "Input shape: (24, 32, 1)\n"
     ]
    }
   ],
   "source": [
    "for spectrogram, _ in train_ds.take(1):\n",
    "  # take(1) takes 1 *batch*, so we have to select the first \n",
    "  # spectrogram from it, hence the [0]\n",
    "    input_shape = spectrogram[0].shape  \n",
    "print('Input shape:', input_shape)\n",
    "num_labels = len(label_list)\n"
   ]
  },
  {
   "cell_type": "code",
   "execution_count": 73,
   "id": "stuck-david",
   "metadata": {},
   "outputs": [
    {
     "name": "stdout",
     "output_type": "stream",
     "text": [
      "Input shape: (24, 32, 1)\n",
      "Model: \"simple_cnn\"\n",
      "_________________________________________________________________\n",
      " Layer (type)                Output Shape              Param #   \n",
      "=================================================================\n",
      " conv2d (Conv2D)             (None, 22, 30, 20)        200       \n",
      "                                                                 \n",
      " pool2 (MaxPooling2D)        (None, 11, 15, 20)        0         \n",
      "                                                                 \n",
      " depthwise_conv2d (Depthwise  (None, 11, 15, 20)       200       \n",
      " Conv2D)                                                         \n",
      "                                                                 \n",
      " conv2d_1 (Conv2D)           (None, 11, 15, 32)        672       \n",
      "                                                                 \n",
      " max_pooling2d (MaxPooling2D  (None, 2, 3, 32)         0         \n",
      " )                                                               \n",
      "                                                                 \n",
      " dropout (Dropout)           (None, 2, 3, 32)          0         \n",
      "                                                                 \n",
      " flatten (Flatten)           (None, 192)               0         \n",
      "                                                                 \n",
      " dense (Dense)               (None, 128)               24704     \n",
      "                                                                 \n",
      " dropout_1 (Dropout)         (None, 128)               0         \n",
      "                                                                 \n",
      " dense_1 (Dense)             (None, 128)               16512     \n",
      "                                                                 \n",
      " dropout_2 (Dropout)         (None, 128)               0         \n",
      "                                                                 \n",
      " dense_2 (Dense)             (None, 4)                 516       \n",
      "                                                                 \n",
      "=================================================================\n",
      "Total params: 42,804\n",
      "Trainable params: 42,804\n",
      "Non-trainable params: 0\n",
      "_________________________________________________________________\n"
     ]
    }
   ],
   "source": [
    "print('Input shape:', input_shape)\n",
    "model = models.Sequential([\n",
    "    layers.Input(shape=input_shape),\n",
    "    layers.Conv2D(20, 3, activation='relu'),\n",
    "    layers.MaxPooling2D(name='pool2'),\n",
    "    layers.DepthwiseConv2D(kernel_size=(3,3), padding='same'),\n",
    "    layers.Conv2D(32, 1, activation='relu'),\n",
    "    layers.MaxPooling2D(pool_size=(4,4)),\n",
    "    layers.Dropout(0.2),\n",
    "    layers.Flatten(),\n",
    "    layers.Dense(128, activation='relu'),\n",
    "    layers.Dropout(0.2),\n",
    "    layers.Dense(128, activation='relu'),\n",
    "    layers.Dropout(0.2),\n",
    "    layers.Dense(num_labels),\n",
    "], name=\"simple_cnn\")\n",
    "\n",
    "model.summary()"
   ]
  },
  {
   "cell_type": "code",
   "execution_count": 46,
   "id": "rough-train",
   "metadata": {},
   "outputs": [
    {
     "name": "stdout",
     "output_type": "stream",
     "text": [
      "[95760 23940 85120 16384 16384   512]\n",
      "238100\n"
     ]
    }
   ],
   "source": [
    "# number of MACs in each layer is (# outputs in layer) * (number of inputs that contribute to one output)\n",
    "macs = np.array([(14*38*20)*(3*3), (7*19*20)*(3*3), (7*19*32)*20, 128*128, 128*128, 4*128])\n",
    "print(macs)\n",
    "print(np.sum(macs))"
   ]
  },
  {
   "cell_type": "code",
   "execution_count": 74,
   "id": "emerging-holocaust",
   "metadata": {},
   "outputs": [],
   "source": [
    "model.compile(\n",
    "    optimizer=tf.keras.optimizers.Adam(),\n",
    "    loss=tf.keras.losses.SparseCategoricalCrossentropy(from_logits=True),\n",
    "    metrics=['accuracy'],\n",
    ")"
   ]
  },
  {
   "cell_type": "code",
   "execution_count": null,
   "id": "alternative-arrest",
   "metadata": {},
   "outputs": [],
   "source": [
    "#  Google: feature extraction with Keras\n",
    "# feature_model = tf.keras.model(input=model.input, output= model.layers[4].output)"
   ]
  },
  {
   "cell_type": "code",
   "execution_count": 75,
   "id": "recreational-publication",
   "metadata": {},
   "outputs": [
    {
     "name": "stdout",
     "output_type": "stream",
     "text": [
      "Epoch 1/25\n",
      "2697/2697 [==============================] - 113s 12ms/step - loss: 0.4761 - accuracy: 0.8304 - val_loss: 0.1660 - val_accuracy: 0.9664\n",
      "Epoch 2/25\n",
      "2697/2697 [==============================] - 32s 12ms/step - loss: 0.3016 - accuracy: 0.8796 - val_loss: 0.1528 - val_accuracy: 0.9758\n",
      "Epoch 3/25\n",
      "2697/2697 [==============================] - 32s 12ms/step - loss: 0.2733 - accuracy: 0.8909 - val_loss: 0.1405 - val_accuracy: 0.9717\n",
      "Epoch 4/25\n",
      "2697/2697 [==============================] - 31s 12ms/step - loss: 0.2603 - accuracy: 0.8949 - val_loss: 0.1416 - val_accuracy: 0.9775\n",
      "Epoch 5/25\n",
      "2697/2697 [==============================] - 31s 12ms/step - loss: 0.2511 - accuracy: 0.8997 - val_loss: 0.1324 - val_accuracy: 0.9747\n",
      "Epoch 6/25\n",
      "2697/2697 [==============================] - 32s 12ms/step - loss: 0.2456 - accuracy: 0.9014 - val_loss: 0.1330 - val_accuracy: 0.9730\n",
      "Epoch 7/25\n",
      "2697/2697 [==============================] - 32s 12ms/step - loss: 0.2406 - accuracy: 0.9036 - val_loss: 0.1364 - val_accuracy: 0.9749\n",
      "Epoch 8/25\n",
      "2697/2697 [==============================] - 32s 12ms/step - loss: 0.2361 - accuracy: 0.9056 - val_loss: 0.1240 - val_accuracy: 0.9719\n",
      "Epoch 9/25\n",
      "2697/2697 [==============================] - 32s 12ms/step - loss: 0.2352 - accuracy: 0.9063 - val_loss: 0.1435 - val_accuracy: 0.9674\n",
      "Epoch 10/25\n",
      "2697/2697 [==============================] - 31s 12ms/step - loss: 0.2316 - accuracy: 0.9075 - val_loss: 0.1342 - val_accuracy: 0.9776\n",
      "Epoch 11/25\n",
      "2697/2697 [==============================] - 31s 12ms/step - loss: 0.2290 - accuracy: 0.9089 - val_loss: 0.1322 - val_accuracy: 0.9691\n",
      "Epoch 12/25\n",
      "2697/2697 [==============================] - 32s 12ms/step - loss: 0.2281 - accuracy: 0.9089 - val_loss: 0.1306 - val_accuracy: 0.9728\n",
      "Epoch 13/25\n",
      "2697/2697 [==============================] - 32s 12ms/step - loss: 0.2256 - accuracy: 0.9096 - val_loss: 0.1312 - val_accuracy: 0.9679\n",
      "Epoch 14/25\n",
      "2697/2697 [==============================] - 31s 12ms/step - loss: 0.2244 - accuracy: 0.9099 - val_loss: 0.1267 - val_accuracy: 0.9730\n",
      "Epoch 15/25\n",
      "2697/2697 [==============================] - 32s 12ms/step - loss: 0.2247 - accuracy: 0.9101 - val_loss: 0.1164 - val_accuracy: 0.9785\n",
      "Epoch 16/25\n",
      "2697/2697 [==============================] - 32s 12ms/step - loss: 0.2238 - accuracy: 0.9115 - val_loss: 0.1474 - val_accuracy: 0.9534\n",
      "Epoch 17/25\n",
      "2697/2697 [==============================] - 32s 12ms/step - loss: 0.2215 - accuracy: 0.9122 - val_loss: 0.1291 - val_accuracy: 0.9784\n",
      "Epoch 18/25\n",
      "2697/2697 [==============================] - 32s 12ms/step - loss: 0.2207 - accuracy: 0.9123 - val_loss: 0.1184 - val_accuracy: 0.9808\n",
      "Epoch 19/25\n",
      "2697/2697 [==============================] - 31s 12ms/step - loss: 0.2198 - accuracy: 0.9121 - val_loss: 0.1247 - val_accuracy: 0.9716\n",
      "Epoch 20/25\n",
      "2697/2697 [==============================] - 32s 12ms/step - loss: 0.2188 - accuracy: 0.9128 - val_loss: 0.1318 - val_accuracy: 0.9669\n",
      "Epoch 21/25\n",
      "2697/2697 [==============================] - 31s 12ms/step - loss: 0.2183 - accuracy: 0.9128 - val_loss: 0.1234 - val_accuracy: 0.9753\n",
      "Epoch 22/25\n",
      "2697/2697 [==============================] - 32s 12ms/step - loss: 0.2181 - accuracy: 0.9137 - val_loss: 0.1338 - val_accuracy: 0.9666\n",
      "Epoch 23/25\n",
      "2697/2697 [==============================] - 31s 12ms/step - loss: 0.2168 - accuracy: 0.9138 - val_loss: 0.1346 - val_accuracy: 0.9674\n",
      "Epoch 24/25\n",
      "2697/2697 [==============================] - 31s 12ms/step - loss: 0.2134 - accuracy: 0.9153 - val_loss: 0.1354 - val_accuracy: 0.9633\n",
      "Epoch 25/25\n",
      "2697/2697 [==============================] - 32s 12ms/step - loss: 0.2156 - accuracy: 0.9142 - val_loss: 0.1095 - val_accuracy: 0.9795\n"
     ]
    }
   ],
   "source": [
    "history = model.fit(\n",
    "    train_ds, \n",
    "    validation_data=val_ds,  \n",
    "    epochs=EPOCHS) \n",
    "    # callbacks=tf.keras.callbacks.EarlyStopping(verbose=1, patience=2))"
   ]
  },
  {
   "cell_type": "code",
   "execution_count": 76,
   "id": "equipped-characteristic",
   "metadata": {},
   "outputs": [
    {
     "name": "stdout",
     "output_type": "stream",
     "text": [
      "Saving model to kws_ufe_03may2023_0014.h5\n"
     ]
    }
   ],
   "source": [
    "date_str = dt.now().strftime(\"%d%b%Y_%H%M\").lower()\n",
    "model_file_name = f\"kws_ufe_{date_str}.h5\" \n",
    "print(f\"Saving model to {model_file_name}\")\n",
    "model.save(model_file_name, overwrite=False)"
   ]
  },
  {
   "cell_type": "code",
   "execution_count": 77,
   "id": "157289b7-b7c9-469a-909a-4d346e583a1a",
   "metadata": {},
   "outputs": [],
   "source": [
    "with open(model_file_name.split('.')[0] + '.txt', 'w') as fpo:\n",
    "    fpo.write(f\"i16min            = {i16min           }\\n\")\n",
    "    fpo.write(f\"i16max            = {i16max           }\\n\")\n",
    "    fpo.write(f\"fsamp             = {fsamp            }\\n\")\n",
    "    fpo.write(f\"wave_length_ms    = {wave_length_ms   }\\n\")\n",
    "    fpo.write(f\"wave_length_samps = {wave_length_samps}\\n\")\n",
    "    fpo.write(f\"window_size_ms    = {window_size_ms   }\\n\")\n",
    "    fpo.write(f\"window_step_ms    = {window_step_ms   }\\n\")\n",
    "    fpo.write(f\"num_filters       = {num_filters      }\\n\")\n",
    "    fpo.write(f\"use_microfrontend = {use_microfrontend}\\n\")\n",
    "    fpo.write(f\"label_list        = {label_list}\\n\")\n",
    "    fpo.write(f\"spectrogram_shape = {spectrogram.numpy().shape}\\n\")\n"
   ]
  },
  {
   "cell_type": "code",
   "execution_count": 78,
   "id": "amateur-slovenia",
   "metadata": {},
   "outputs": [
    {
     "data": {
      "image/png": "[encoded data removed]",
      "text/plain": [
       "<Figure size 432x288 with 2 Axes>"
      ]
     },
     "metadata": {
      "needs_background": "light"
     },
     "output_type": "display_data"
    }
   ],
   "source": [
    "metrics = history.history\n",
    "plt.subplot(2,1,1)\n",
    "plt.semilogy(history.epoch, metrics['loss'], metrics['val_loss'])\n",
    "plt.legend(['training', 'validation'])\n",
    "plt.ylabel('Loss')\n",
    "plt.xlabel('Epoch')\n",
    "plt.subplot(2,1,2)\n",
    "plt.plot(history.epoch, metrics['accuracy'], metrics['val_accuracy'])\n",
    "plt.legend(['training', 'validation'])\n",
    "plt.ylabel('Accuracy')\n",
    "plt.xlabel('Epoch')\n",
    "plt.show()"
   ]
  },
  {
   "cell_type": "code",
   "execution_count": 79,
   "id": "hungarian-arabic",
   "metadata": {},
   "outputs": [],
   "source": [
    "test_audio = []\n",
    "test_labels = []\n",
    "\n",
    "for audio, label in test_ds:\n",
    "    test_audio.append(audio.numpy())\n",
    "    test_labels.append(label.numpy())\n",
    "\n",
    "test_audio = np.array(test_audio)\n",
    "test_labels = np.array(test_labels)"
   ]
  },
  {
   "cell_type": "code",
   "execution_count": 80,
   "id": "dangerous-coverage",
   "metadata": {
    "scrolled": true
   },
   "outputs": [
    {
     "name": "stdout",
     "output_type": "stream",
     "text": [
      "462/462 [==============================] - 2s 4ms/step\n",
      "Test set accuracy: 98%\n"
     ]
    }
   ],
   "source": [
    "y_pred = np.argmax(model.predict(test_audio), axis=1)\n",
    "y_true = test_labels\n",
    "\n",
    "test_acc = sum(y_pred == y_true) / len(y_true)\n",
    "print(f'Test set accuracy: {test_acc:.0%}')"
   ]
  },
  {
   "cell_type": "code",
   "execution_count": 81,
   "id": "governmental-cathedral",
   "metadata": {},
   "outputs": [
    {
     "data": {
      "image/png": "[encoded data removed]",
      "text/plain": [
       "<Figure size 432x432 with 2 Axes>"
      ]
     },
     "metadata": {
      "needs_background": "light"
     },
     "output_type": "display_data"
    }
   ],
   "source": [
    "confusion_mtx = tf.math.confusion_matrix(y_true, y_pred) \n",
    "plt.figure(figsize=(6, 6))\n",
    "sns.heatmap(confusion_mtx, xticklabels=label_list, yticklabels=label_list, \n",
    "            annot=True, fmt='g')\n",
    "plt.gca().invert_yaxis() # flip so origin is at bottom left\n",
    "plt.xlabel('Prediction')\n",
    "plt.ylabel('Label')\n",
    "plt.show()"
   ]
  },
  {
   "cell_type": "code",
   "execution_count": 82,
   "id": "serious-victory",
   "metadata": {
    "scrolled": true
   },
   "outputs": [
    {
     "name": "stdout",
     "output_type": "stream",
     "text": [
      "On training set:\n",
      "5394/5394 [==============================] - 23s 4ms/step\n",
      "Data set accuracy: 91%\n"
     ]
    },
    {
     "data": {
      "image/png": "[encoded data removed]",
      "text/plain": [
       "<Figure size 360x288 with 2 Axes>"
      ]
     },
     "metadata": {
      "needs_background": "light"
     },
     "output_type": "display_data"
    }
   ],
   "source": [
    "dset = train_ds.unbatch()\n",
    "print(\"On training set:\")\n",
    "\n",
    "ds_audio = []\n",
    "ds_labels = []\n",
    "\n",
    "for audio, label in dset:\n",
    "    ds_audio.append(audio.numpy())\n",
    "    ds_labels.append(label.numpy())\n",
    "\n",
    "ds_labels = np.array(ds_labels)\n",
    "ds_audio = np.array(ds_audio)\n",
    "\n",
    "model_out = model.predict(ds_audio)\n",
    "y_pred = np.argmax(model_out, axis=1)\n",
    "y_true = ds_labels\n",
    "\n",
    "ds_acc = sum(y_pred == y_true) / len(y_true)\n",
    "print(f'Data set accuracy: {ds_acc:.0%}')\n",
    "\n",
    "confusion_mtx = tf.math.confusion_matrix(y_true, y_pred) \n",
    "plt.figure(figsize=(5,4))\n",
    "sns.heatmap(confusion_mtx, xticklabels=label_list, yticklabels=label_list, \n",
    "            annot=True, fmt='g')\n",
    "plt.xlabel('Prediction')\n",
    "plt.ylabel('Label')\n",
    "plt.show()"
   ]
  },
  {
   "cell_type": "code",
   "execution_count": 83,
   "id": "unusual-stopping",
   "metadata": {
    "scrolled": true
   },
   "outputs": [
    {
     "name": "stdout",
     "output_type": "stream",
     "text": [
      "Processing 4 files\n",
      "Added 1 silent wavs and ?? noisy wavs\n",
      "About to create spectrograms from 5 waves\n",
      " 0 wavs processed"
     ]
    },
    {
     "data": {
      "image/png": "[encoded data removed]",
      "text/plain": [
       "<Figure size 432x288 with 1 Axes>"
      ]
     },
     "metadata": {
      "needs_background": "light"
     },
     "output_type": "display_data"
    },
    {
     "data": {
      "image/png": "[encoded data removed]",
      "text/plain": [
       "<Figure size 432x288 with 1 Axes>"
      ]
     },
     "metadata": {
      "needs_background": "light"
     },
     "output_type": "display_data"
    },
    {
     "data": {
      "image/png": "[encoded data removed]",
      "text/plain": [
       "<Figure size 432x288 with 1 Axes>"
      ]
     },
     "metadata": {
      "needs_background": "light"
     },
     "output_type": "display_data"
    },
    {
     "data": {
      "image/png": "[encoded data removed]",
      "text/plain": [
       "<Figure size 432x288 with 1 Axes>"
      ]
     },
     "metadata": {
      "needs_background": "light"
     },
     "output_type": "display_data"
    },
    {
     "data": {
      "image/png": "[encoded data removed]",
      "text/plain": [
       "<Figure size 432x288 with 1 Axes>"
      ]
     },
     "metadata": {
      "needs_background": "light"
     },
     "output_type": "display_data"
    }
   ],
   "source": [
    "sample_files = [data_dir/'left/07ad9b59_nohash_0.wav', \n",
    "                data_dir/'no/01bb6a2a_nohash_0.wav',  \n",
    "                data_dir/'right/0362539c_nohash_1.wav',\n",
    "                data_dir/'right/b5d1e505_nohash_0.wav']\n",
    "fstr_list = [str(f) for f in sample_files]\n",
    "sample_ds = preprocess_dataset(fstr_list, num_silent=1)\n",
    "count = 1\n",
    "for spectrogram, label in sample_ds.batch(1):\n",
    "    prediction = model(spectrogram)\n",
    "    plt.subplot(len(sample_files)+1, 1, count)\n",
    "    plt.bar(label_list, tf.nn.softmax(prediction[0]))\n",
    "    plt.title(f'Predictions for \"{label_list[label[0]]}\"')\n",
    "    plt.show()\n",
    "    count += 1"
   ]
  },
  {
   "cell_type": "markdown",
   "id": "current-preserve",
   "metadata": {},
   "source": [
    "## Quantize and Convert to TFLite"
   ]
  },
  {
   "cell_type": "code",
   "execution_count": 84,
   "id": "enclosed-government",
   "metadata": {},
   "outputs": [],
   "source": [
    "converter = tf.lite.TFLiteConverter.from_keras_model(model)\n",
    "converter.optimizations = [tf.lite.Optimize.DEFAULT]"
   ]
  },
  {
   "cell_type": "code",
   "execution_count": 91,
   "id": "loved-synthetic",
   "metadata": {},
   "outputs": [],
   "source": [
    "num_calibration_steps = 10\n",
    "ds_iter = val_ds.unbatch().batch(1).as_numpy_iterator()\n",
    "def representative_dataset_gen():\n",
    "    for _ in range(num_calibration_steps):\n",
    "        next_input = next(ds_iter)[0]\n",
    "        next_input = next_input.astype(np.float32)  # (DIFF_FROM_LECTURE)\n",
    "        yield [next_input]"
   ]
  },
  {
   "cell_type": "code",
   "execution_count": 92,
   "id": "supported-poison",
   "metadata": {},
   "outputs": [],
   "source": [
    "converter.optimizations = [tf.lite.Optimize.DEFAULT]\n",
    "converter.representative_dataset = representative_dataset_gen\n",
    "converter.target_spec.supported_ops = [tf.lite.OpsSet.TFLITE_BUILTINS_INT8]\n",
    "converter.inference_input_type = tf.int8  # or tf.uint8; should match dat_q in eval_quantized_model.py\n",
    "converter.inference_output_type = tf.int8  # or tf.uint8"
   ]
  },
  {
   "cell_type": "code",
   "execution_count": 93,
   "id": "least-marketplace",
   "metadata": {},
   "outputs": [
    {
     "name": "stderr",
     "output_type": "stream",
     "text": [
      "WARNING:absl:Found untraced functions such as _jit_compiled_convolution_op, _jit_compiled_convolution_op, _jit_compiled_convolution_op while saving (showing 3 of 3). These functions will not be directly callable after loading.\n"
     ]
    },
    {
     "name": "stdout",
     "output_type": "stream",
     "text": [
      "INFO:tensorflow:Assets written to: C:\\Users\\user\\AppData\\Local\\Temp\\tmpv7cqm1y7\\assets\n"
     ]
    },
    {
     "name": "stderr",
     "output_type": "stream",
     "text": [
      "INFO:tensorflow:Assets written to: C:\\Users\\user\\AppData\\Local\\Temp\\tmpv7cqm1y7\\assets\n",
      "C:\\Users\\user\\anaconda3\\lib\\site-packages\\tensorflow\\lite\\python\\convert.py:766: UserWarning: Statistics for quantized inputs were expected, but not specified; continuing anyway.\n",
      "  warnings.warn(\"Statistics for quantized inputs were expected, but not \"\n"
     ]
    },
    {
     "ename": "ValueError",
     "evalue": "Cannot set tensor: Got value of type FLOAT64 but expected type FLOAT32 for input 0, name: serving_default_input_1:0 ",
     "output_type": "error",
     "traceback": [
      "\u001b[1;31m---------------------------------------------------------------------------\u001b[0m",
      "\u001b[1;31mValueError\u001b[0m                                Traceback (most recent call last)",
      "Input \u001b[1;32mIn [93]\u001b[0m, in \u001b[0;36m<cell line: 1>\u001b[1;34m()\u001b[0m\n\u001b[1;32m----> 1\u001b[0m tflite_quant_model \u001b[38;5;241m=\u001b[39m \u001b[43mconverter\u001b[49m\u001b[38;5;241;43m.\u001b[39;49m\u001b[43mconvert\u001b[49m\u001b[43m(\u001b[49m\u001b[43m)\u001b[49m\n",
      "File \u001b[1;32m~\\anaconda3\\lib\\site-packages\\tensorflow\\lite\\python\\lite.py:929\u001b[0m, in \u001b[0;36m_export_metrics.<locals>.wrapper\u001b[1;34m(self, *args, **kwargs)\u001b[0m\n\u001b[0;32m    926\u001b[0m \u001b[38;5;129m@functools\u001b[39m\u001b[38;5;241m.\u001b[39mwraps(convert_func)\n\u001b[0;32m    927\u001b[0m \u001b[38;5;28;01mdef\u001b[39;00m \u001b[38;5;21mwrapper\u001b[39m(\u001b[38;5;28mself\u001b[39m, \u001b[38;5;241m*\u001b[39margs, \u001b[38;5;241m*\u001b[39m\u001b[38;5;241m*\u001b[39mkwargs):\n\u001b[0;32m    928\u001b[0m   \u001b[38;5;66;03m# pylint: disable=protected-access\u001b[39;00m\n\u001b[1;32m--> 929\u001b[0m   \u001b[38;5;28;01mreturn\u001b[39;00m \u001b[38;5;28mself\u001b[39m\u001b[38;5;241m.\u001b[39m_convert_and_export_metrics(convert_func, \u001b[38;5;241m*\u001b[39margs, \u001b[38;5;241m*\u001b[39m\u001b[38;5;241m*\u001b[39mkwargs)\n",
      "File \u001b[1;32m~\\anaconda3\\lib\\site-packages\\tensorflow\\lite\\python\\lite.py:908\u001b[0m, in \u001b[0;36mTFLiteConverterBase._convert_and_export_metrics\u001b[1;34m(self, convert_func, *args, **kwargs)\u001b[0m\n\u001b[0;32m    906\u001b[0m \u001b[38;5;28mself\u001b[39m\u001b[38;5;241m.\u001b[39m_save_conversion_params_metric()\n\u001b[0;32m    907\u001b[0m start_time \u001b[38;5;241m=\u001b[39m time\u001b[38;5;241m.\u001b[39mprocess_time()\n\u001b[1;32m--> 908\u001b[0m result \u001b[38;5;241m=\u001b[39m convert_func(\u001b[38;5;28mself\u001b[39m, \u001b[38;5;241m*\u001b[39margs, \u001b[38;5;241m*\u001b[39m\u001b[38;5;241m*\u001b[39mkwargs)\n\u001b[0;32m    909\u001b[0m elapsed_time_ms \u001b[38;5;241m=\u001b[39m (time\u001b[38;5;241m.\u001b[39mprocess_time() \u001b[38;5;241m-\u001b[39m start_time) \u001b[38;5;241m*\u001b[39m \u001b[38;5;241m1000\u001b[39m\n\u001b[0;32m    910\u001b[0m \u001b[38;5;28;01mif\u001b[39;00m result:\n",
      "File \u001b[1;32m~\\anaconda3\\lib\\site-packages\\tensorflow\\lite\\python\\lite.py:1338\u001b[0m, in \u001b[0;36mTFLiteKerasModelConverterV2.convert\u001b[1;34m(self)\u001b[0m\n\u001b[0;32m   1325\u001b[0m \u001b[38;5;129m@_export_metrics\u001b[39m\n\u001b[0;32m   1326\u001b[0m \u001b[38;5;28;01mdef\u001b[39;00m \u001b[38;5;21mconvert\u001b[39m(\u001b[38;5;28mself\u001b[39m):\n\u001b[0;32m   1327\u001b[0m   \u001b[38;5;124;03m\"\"\"Converts a keras model based on instance variables.\u001b[39;00m\n\u001b[0;32m   1328\u001b[0m \n\u001b[0;32m   1329\u001b[0m \u001b[38;5;124;03m  Returns:\u001b[39;00m\n\u001b[1;32m   (...)\u001b[0m\n\u001b[0;32m   1336\u001b[0m \u001b[38;5;124;03m      Invalid quantization parameters.\u001b[39;00m\n\u001b[0;32m   1337\u001b[0m \u001b[38;5;124;03m  \"\"\"\u001b[39;00m\n\u001b[1;32m-> 1338\u001b[0m   saved_model_convert_result \u001b[38;5;241m=\u001b[39m \u001b[38;5;28;43mself\u001b[39;49m\u001b[38;5;241;43m.\u001b[39;49m\u001b[43m_convert_as_saved_model\u001b[49m\u001b[43m(\u001b[49m\u001b[43m)\u001b[49m\n\u001b[0;32m   1339\u001b[0m   \u001b[38;5;28;01mif\u001b[39;00m saved_model_convert_result:\n\u001b[0;32m   1340\u001b[0m     \u001b[38;5;28;01mreturn\u001b[39;00m saved_model_convert_result\n",
      "File \u001b[1;32m~\\anaconda3\\lib\\site-packages\\tensorflow\\lite\\python\\lite.py:1320\u001b[0m, in \u001b[0;36mTFLiteKerasModelConverterV2._convert_as_saved_model\u001b[1;34m(self)\u001b[0m\n\u001b[0;32m   1317\u001b[0m   graph_def, input_tensors, output_tensors \u001b[38;5;241m=\u001b[39m (\n\u001b[0;32m   1318\u001b[0m       \u001b[38;5;28mself\u001b[39m\u001b[38;5;241m.\u001b[39m_convert_keras_to_saved_model(temp_dir))\n\u001b[0;32m   1319\u001b[0m   \u001b[38;5;28;01mif\u001b[39;00m \u001b[38;5;28mself\u001b[39m\u001b[38;5;241m.\u001b[39msaved_model_dir:\n\u001b[1;32m-> 1320\u001b[0m     \u001b[38;5;28;01mreturn\u001b[39;00m \u001b[38;5;28;43msuper\u001b[39;49m\u001b[43m(\u001b[49m\u001b[43mTFLiteKerasModelConverterV2\u001b[49m\u001b[43m,\u001b[49m\n\u001b[0;32m   1321\u001b[0m \u001b[43m                 \u001b[49m\u001b[38;5;28;43mself\u001b[39;49m\u001b[43m)\u001b[49m\u001b[38;5;241;43m.\u001b[39;49m\u001b[43mconvert\u001b[49m\u001b[43m(\u001b[49m\u001b[43mgraph_def\u001b[49m\u001b[43m,\u001b[49m\u001b[43m \u001b[49m\u001b[43minput_tensors\u001b[49m\u001b[43m,\u001b[49m\u001b[43m \u001b[49m\u001b[43moutput_tensors\u001b[49m\u001b[43m)\u001b[49m\n\u001b[0;32m   1322\u001b[0m \u001b[38;5;28;01mfinally\u001b[39;00m:\n\u001b[0;32m   1323\u001b[0m   shutil\u001b[38;5;241m.\u001b[39mrmtree(temp_dir, \u001b[38;5;28;01mTrue\u001b[39;00m)\n",
      "File \u001b[1;32m~\\anaconda3\\lib\\site-packages\\tensorflow\\lite\\python\\lite.py:1137\u001b[0m, in \u001b[0;36mTFLiteConverterBaseV2.convert\u001b[1;34m(self, graph_def, input_tensors, output_tensors)\u001b[0m\n\u001b[0;32m   1130\u001b[0m \u001b[38;5;66;03m# Converts model.\u001b[39;00m\n\u001b[0;32m   1131\u001b[0m result \u001b[38;5;241m=\u001b[39m _convert_graphdef(\n\u001b[0;32m   1132\u001b[0m     input_data\u001b[38;5;241m=\u001b[39mgraph_def,\n\u001b[0;32m   1133\u001b[0m     input_tensors\u001b[38;5;241m=\u001b[39minput_tensors,\n\u001b[0;32m   1134\u001b[0m     output_tensors\u001b[38;5;241m=\u001b[39moutput_tensors,\n\u001b[0;32m   1135\u001b[0m     \u001b[38;5;241m*\u001b[39m\u001b[38;5;241m*\u001b[39mconverter_kwargs)\n\u001b[1;32m-> 1137\u001b[0m \u001b[38;5;28;01mreturn\u001b[39;00m \u001b[38;5;28;43mself\u001b[39;49m\u001b[38;5;241;43m.\u001b[39;49m\u001b[43m_optimize_tflite_model\u001b[49m\u001b[43m(\u001b[49m\n\u001b[0;32m   1138\u001b[0m \u001b[43m    \u001b[49m\u001b[43mresult\u001b[49m\u001b[43m,\u001b[49m\u001b[43m \u001b[49m\u001b[38;5;28;43mself\u001b[39;49m\u001b[38;5;241;43m.\u001b[39;49m\u001b[43m_quant_mode\u001b[49m\u001b[43m,\u001b[49m\u001b[43m \u001b[49m\u001b[43mquant_io\u001b[49m\u001b[38;5;241;43m=\u001b[39;49m\u001b[38;5;28;43mself\u001b[39;49m\u001b[38;5;241;43m.\u001b[39;49m\u001b[43mexperimental_new_quantizer\u001b[49m\u001b[43m)\u001b[49m\n",
      "File \u001b[1;32m~\\anaconda3\\lib\\site-packages\\tensorflow\\lite\\python\\convert_phase.py:215\u001b[0m, in \u001b[0;36mconvert_phase.<locals>.actual_decorator.<locals>.wrapper\u001b[1;34m(*args, **kwargs)\u001b[0m\n\u001b[0;32m    213\u001b[0m \u001b[38;5;28;01mexcept\u001b[39;00m \u001b[38;5;167;01mException\u001b[39;00m \u001b[38;5;28;01mas\u001b[39;00m error:\n\u001b[0;32m    214\u001b[0m   report_error_message(\u001b[38;5;28mstr\u001b[39m(error))\n\u001b[1;32m--> 215\u001b[0m   \u001b[38;5;28;01mraise\u001b[39;00m error \u001b[38;5;28;01mfrom\u001b[39;00m \u001b[38;5;28mNone\u001b[39m\n",
      "File \u001b[1;32m~\\anaconda3\\lib\\site-packages\\tensorflow\\lite\\python\\convert_phase.py:205\u001b[0m, in \u001b[0;36mconvert_phase.<locals>.actual_decorator.<locals>.wrapper\u001b[1;34m(*args, **kwargs)\u001b[0m\n\u001b[0;32m    202\u001b[0m \u001b[38;5;129m@functools\u001b[39m\u001b[38;5;241m.\u001b[39mwraps(func)\n\u001b[0;32m    203\u001b[0m \u001b[38;5;28;01mdef\u001b[39;00m \u001b[38;5;21mwrapper\u001b[39m(\u001b[38;5;241m*\u001b[39margs, \u001b[38;5;241m*\u001b[39m\u001b[38;5;241m*\u001b[39mkwargs):\n\u001b[0;32m    204\u001b[0m   \u001b[38;5;28;01mtry\u001b[39;00m:\n\u001b[1;32m--> 205\u001b[0m     \u001b[38;5;28;01mreturn\u001b[39;00m func(\u001b[38;5;241m*\u001b[39margs, \u001b[38;5;241m*\u001b[39m\u001b[38;5;241m*\u001b[39mkwargs)\n\u001b[0;32m    206\u001b[0m   \u001b[38;5;28;01mexcept\u001b[39;00m ConverterError \u001b[38;5;28;01mas\u001b[39;00m converter_error:\n\u001b[0;32m    207\u001b[0m     \u001b[38;5;28;01mif\u001b[39;00m converter_error\u001b[38;5;241m.\u001b[39merrors:\n",
      "File \u001b[1;32m~\\anaconda3\\lib\\site-packages\\tensorflow\\lite\\python\\lite.py:868\u001b[0m, in \u001b[0;36mTFLiteConverterBase._optimize_tflite_model\u001b[1;34m(self, model, quant_mode, quant_io)\u001b[0m\n\u001b[0;32m    866\u001b[0m   q_bias_type \u001b[38;5;241m=\u001b[39m quant_mode\u001b[38;5;241m.\u001b[39mbias_type()\n\u001b[0;32m    867\u001b[0m   q_allow_float \u001b[38;5;241m=\u001b[39m quant_mode\u001b[38;5;241m.\u001b[39mis_allow_float()\n\u001b[1;32m--> 868\u001b[0m   model \u001b[38;5;241m=\u001b[39m \u001b[38;5;28;43mself\u001b[39;49m\u001b[38;5;241;43m.\u001b[39;49m\u001b[43m_quantize\u001b[49m\u001b[43m(\u001b[49m\u001b[43mmodel\u001b[49m\u001b[43m,\u001b[49m\u001b[43m \u001b[49m\u001b[43mq_in_type\u001b[49m\u001b[43m,\u001b[49m\u001b[43m \u001b[49m\u001b[43mq_out_type\u001b[49m\u001b[43m,\u001b[49m\u001b[43m \u001b[49m\u001b[43mq_activations_type\u001b[49m\u001b[43m,\u001b[49m\n\u001b[0;32m    869\u001b[0m \u001b[43m                         \u001b[49m\u001b[43mq_bias_type\u001b[49m\u001b[43m,\u001b[49m\u001b[43m \u001b[49m\u001b[43mq_allow_float\u001b[49m\u001b[43m)\u001b[49m\n\u001b[0;32m    871\u001b[0m m_in_type \u001b[38;5;241m=\u001b[39m in_type \u001b[38;5;28;01mif\u001b[39;00m in_type \u001b[38;5;28;01melse\u001b[39;00m _dtypes\u001b[38;5;241m.\u001b[39mfloat32\n\u001b[0;32m    872\u001b[0m m_out_type \u001b[38;5;241m=\u001b[39m out_type \u001b[38;5;28;01mif\u001b[39;00m out_type \u001b[38;5;28;01melse\u001b[39;00m _dtypes\u001b[38;5;241m.\u001b[39mfloat32\n",
      "File \u001b[1;32m~\\anaconda3\\lib\\site-packages\\tensorflow\\lite\\python\\lite.py:612\u001b[0m, in \u001b[0;36mTFLiteConverterBase._quantize\u001b[1;34m(self, result, input_type, output_type, activations_type, bias_type, allow_float)\u001b[0m\n\u001b[0;32m    608\u001b[0m calibrate_quantize \u001b[38;5;241m=\u001b[39m _calibrator\u001b[38;5;241m.\u001b[39mCalibrator(result,\n\u001b[0;32m    609\u001b[0m                                             custom_op_registerers_by_name,\n\u001b[0;32m    610\u001b[0m                                             custom_op_registerers_by_func)\n\u001b[0;32m    611\u001b[0m \u001b[38;5;28;01mif\u001b[39;00m \u001b[38;5;28mself\u001b[39m\u001b[38;5;241m.\u001b[39m_experimental_calibrate_only \u001b[38;5;129;01mor\u001b[39;00m \u001b[38;5;28mself\u001b[39m\u001b[38;5;241m.\u001b[39mexperimental_new_quantizer:\n\u001b[1;32m--> 612\u001b[0m   calibrated \u001b[38;5;241m=\u001b[39m \u001b[43mcalibrate_quantize\u001b[49m\u001b[38;5;241;43m.\u001b[39;49m\u001b[43mcalibrate\u001b[49m\u001b[43m(\u001b[49m\n\u001b[0;32m    613\u001b[0m \u001b[43m      \u001b[49m\u001b[38;5;28;43mself\u001b[39;49m\u001b[38;5;241;43m.\u001b[39;49m\u001b[43mrepresentative_dataset\u001b[49m\u001b[38;5;241;43m.\u001b[39;49m\u001b[43minput_gen\u001b[49m\u001b[43m)\u001b[49m\n\u001b[0;32m    615\u001b[0m \u001b[38;5;28;01mif\u001b[39;00m \u001b[38;5;28mself\u001b[39m\u001b[38;5;241m.\u001b[39m_experimental_calibrate_only:\n\u001b[0;32m    616\u001b[0m   \u001b[38;5;28;01mreturn\u001b[39;00m calibrated\n",
      "File \u001b[1;32m~\\anaconda3\\lib\\site-packages\\tensorflow\\lite\\python\\convert_phase.py:215\u001b[0m, in \u001b[0;36mconvert_phase.<locals>.actual_decorator.<locals>.wrapper\u001b[1;34m(*args, **kwargs)\u001b[0m\n\u001b[0;32m    213\u001b[0m \u001b[38;5;28;01mexcept\u001b[39;00m \u001b[38;5;167;01mException\u001b[39;00m \u001b[38;5;28;01mas\u001b[39;00m error:\n\u001b[0;32m    214\u001b[0m   report_error_message(\u001b[38;5;28mstr\u001b[39m(error))\n\u001b[1;32m--> 215\u001b[0m   \u001b[38;5;28;01mraise\u001b[39;00m error \u001b[38;5;28;01mfrom\u001b[39;00m \u001b[38;5;28mNone\u001b[39m\n",
      "File \u001b[1;32m~\\anaconda3\\lib\\site-packages\\tensorflow\\lite\\python\\convert_phase.py:205\u001b[0m, in \u001b[0;36mconvert_phase.<locals>.actual_decorator.<locals>.wrapper\u001b[1;34m(*args, **kwargs)\u001b[0m\n\u001b[0;32m    202\u001b[0m \u001b[38;5;129m@functools\u001b[39m\u001b[38;5;241m.\u001b[39mwraps(func)\n\u001b[0;32m    203\u001b[0m \u001b[38;5;28;01mdef\u001b[39;00m \u001b[38;5;21mwrapper\u001b[39m(\u001b[38;5;241m*\u001b[39margs, \u001b[38;5;241m*\u001b[39m\u001b[38;5;241m*\u001b[39mkwargs):\n\u001b[0;32m    204\u001b[0m   \u001b[38;5;28;01mtry\u001b[39;00m:\n\u001b[1;32m--> 205\u001b[0m     \u001b[38;5;28;01mreturn\u001b[39;00m func(\u001b[38;5;241m*\u001b[39margs, \u001b[38;5;241m*\u001b[39m\u001b[38;5;241m*\u001b[39mkwargs)\n\u001b[0;32m    206\u001b[0m   \u001b[38;5;28;01mexcept\u001b[39;00m ConverterError \u001b[38;5;28;01mas\u001b[39;00m converter_error:\n\u001b[0;32m    207\u001b[0m     \u001b[38;5;28;01mif\u001b[39;00m converter_error\u001b[38;5;241m.\u001b[39merrors:\n",
      "File \u001b[1;32m~\\anaconda3\\lib\\site-packages\\tensorflow\\lite\\python\\optimize\\calibrator.py:226\u001b[0m, in \u001b[0;36mCalibrator.calibrate\u001b[1;34m(self, dataset_gen)\u001b[0m\n\u001b[0;32m    216\u001b[0m \u001b[38;5;129m@convert_phase\u001b[39m(Component\u001b[38;5;241m.\u001b[39mOPTIMIZE_TFLITE_MODEL, SubComponent\u001b[38;5;241m.\u001b[39mCALIBRATE)\n\u001b[0;32m    217\u001b[0m \u001b[38;5;28;01mdef\u001b[39;00m \u001b[38;5;21mcalibrate\u001b[39m(\u001b[38;5;28mself\u001b[39m, dataset_gen):\n\u001b[0;32m    218\u001b[0m   \u001b[38;5;124;03m\"\"\"Calibrates the model with specified generator.\u001b[39;00m\n\u001b[0;32m    219\u001b[0m \n\u001b[0;32m    220\u001b[0m \u001b[38;5;124;03m  Returns:\u001b[39;00m\n\u001b[1;32m   (...)\u001b[0m\n\u001b[0;32m    224\u001b[0m \u001b[38;5;124;03m    dataset_gen: A generator that generates calibration samples.\u001b[39;00m\n\u001b[0;32m    225\u001b[0m \u001b[38;5;124;03m  \"\"\"\u001b[39;00m\n\u001b[1;32m--> 226\u001b[0m   \u001b[38;5;28;43mself\u001b[39;49m\u001b[38;5;241;43m.\u001b[39;49m\u001b[43m_feed_tensors\u001b[49m\u001b[43m(\u001b[49m\u001b[43mdataset_gen\u001b[49m\u001b[43m,\u001b[49m\u001b[43m \u001b[49m\u001b[43mresize_input\u001b[49m\u001b[38;5;241;43m=\u001b[39;49m\u001b[38;5;28;43;01mTrue\u001b[39;49;00m\u001b[43m)\u001b[49m\n\u001b[0;32m    227\u001b[0m   \u001b[38;5;28;01mreturn\u001b[39;00m \u001b[38;5;28mself\u001b[39m\u001b[38;5;241m.\u001b[39m_calibrator\u001b[38;5;241m.\u001b[39mCalibrate()\n",
      "File \u001b[1;32m~\\anaconda3\\lib\\site-packages\\tensorflow\\lite\\python\\optimize\\calibrator.py:138\u001b[0m, in \u001b[0;36mCalibrator._feed_tensors\u001b[1;34m(self, dataset_gen, resize_input)\u001b[0m\n\u001b[0;32m    136\u001b[0m   \u001b[38;5;28mself\u001b[39m\u001b[38;5;241m.\u001b[39m_calibrator\u001b[38;5;241m.\u001b[39mFeedTensor(input_array, signature_key)\n\u001b[0;32m    137\u001b[0m \u001b[38;5;28;01melse\u001b[39;00m:\n\u001b[1;32m--> 138\u001b[0m   \u001b[38;5;28;43mself\u001b[39;49m\u001b[38;5;241;43m.\u001b[39;49m\u001b[43m_calibrator\u001b[49m\u001b[38;5;241;43m.\u001b[39;49m\u001b[43mFeedTensor\u001b[49m\u001b[43m(\u001b[49m\u001b[43minput_array\u001b[49m\u001b[43m)\u001b[49m\n",
      "\u001b[1;31mValueError\u001b[0m: Cannot set tensor: Got value of type FLOAT64 but expected type FLOAT32 for input 0, name: serving_default_input_1:0 "
     ]
    }
   ],
   "source": [
    "tflite_quant_model = converter.convert()"
   ]
  },
  {
   "cell_type": "code",
   "execution_count": 88,
   "id": "simplified-faculty",
   "metadata": {},
   "outputs": [
    {
     "name": "stdout",
     "output_type": "stream",
     "text": [
      "Wrote 50392 / 50392 bytes to tflite file\n"
     ]
    }
   ],
   "source": [
    "fname = 'today_model.tflite'\n",
    "with open(fname, \"wb\") as fpo:\n",
    "    num_bytes_written = fpo.write(tflite_quant_model)\n",
    "print(f\"Wrote {num_bytes_written} / {len(tflite_quant_model)} bytes to tflite file\")"
   ]
  },
  {
   "cell_type": "code",
   "execution_count": 62,
   "id": "thorough-senegal",
   "metadata": {},
   "outputs": [
    {
     "name": "stderr",
     "output_type": "stream",
     "text": [
      "'xxd' is not recognized as an internal or external command,\n",
      "operable program or batch file.\n"
     ]
    }
   ],
   "source": [
    "!xxd -i kws_model.tflite >! kws_model.cc"
   ]
  },
  {
   "cell_type": "code",
   "execution_count": null,
   "id": "4f7a331e-b930-4914-8906-8e9b384b17c4",
   "metadata": {},
   "outputs": [],
   "source": []
  }
 ],
 "metadata": {
  "kernelspec": {
   "display_name": "Python 3 (ipykernel)",
   "language": "python",
   "name": "python3"
  },
  "language_info": {
   "codemirror_mode": {
    "name": "ipython",
    "version": 3
   },
   "file_extension": ".py",
   "mimetype": "text/x-python",
   "name": "python",
   "nbconvert_exporter": "python",
   "pygments_lexer": "ipython3",
   "version": "3.9.12"
  }
 },
 "nbformat": 4,
 "nbformat_minor": 5
}
